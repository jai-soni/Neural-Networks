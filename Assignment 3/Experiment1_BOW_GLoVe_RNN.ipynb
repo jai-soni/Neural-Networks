{
 "cells": [
  {
   "cell_type": "markdown",
   "metadata": {},
   "source": [
    "## Load the Data"
   ]
  },
  {
   "cell_type": "code",
   "execution_count": 1,
   "metadata": {},
   "outputs": [],
   "source": [
    "import pandas as pd\n",
    "new_df=pd.read_csv('Earnings_Call_Transcript.csv')"
   ]
  },
  {
   "cell_type": "code",
   "execution_count": 2,
   "metadata": {},
   "outputs": [
    {
     "data": {
      "text/html": [
       "<div>\n",
       "<style scoped>\n",
       "    .dataframe tbody tr th:only-of-type {\n",
       "        vertical-align: middle;\n",
       "    }\n",
       "\n",
       "    .dataframe tbody tr th {\n",
       "        vertical-align: top;\n",
       "    }\n",
       "\n",
       "    .dataframe thead th {\n",
       "        text-align: right;\n",
       "    }\n",
       "</style>\n",
       "<table border=\"1\" class=\"dataframe\">\n",
       "  <thead>\n",
       "    <tr style=\"text-align: right;\">\n",
       "      <th></th>\n",
       "      <th>Unnamed: 0</th>\n",
       "      <th>sentiment</th>\n",
       "      <th>text</th>\n",
       "    </tr>\n",
       "  </thead>\n",
       "  <tbody>\n",
       "    <tr>\n",
       "      <th>0</th>\n",
       "      <td>0</td>\n",
       "      <td>positive</td>\n",
       "      <td>thank good afternoon everyone welcome nvidias ...</td>\n",
       "    </tr>\n",
       "    <tr>\n",
       "      <th>1</th>\n",
       "      <td>1</td>\n",
       "      <td>positive</td>\n",
       "      <td>look past q1 expect channel inventory correcti...</td>\n",
       "    </tr>\n",
       "    <tr>\n",
       "      <th>2</th>\n",
       "      <td>3</td>\n",
       "      <td>negative</td>\n",
       "      <td>china game weakness slow economic environment ...</td>\n",
       "    </tr>\n",
       "    <tr>\n",
       "      <th>3</th>\n",
       "      <td>4</td>\n",
       "      <td>negative</td>\n",
       "      <td>dont know could tear apart tease apart harlan ...</td>\n",
       "    </tr>\n",
       "    <tr>\n",
       "      <th>4</th>\n",
       "      <td>5</td>\n",
       "      <td>positive</td>\n",
       "      <td>thank ill turn call back jenhsun close remark</td>\n",
       "    </tr>\n",
       "  </tbody>\n",
       "</table>\n",
       "</div>"
      ],
      "text/plain": [
       "   Unnamed: 0 sentiment                                               text\n",
       "0           0  positive  thank good afternoon everyone welcome nvidias ...\n",
       "1           1  positive  look past q1 expect channel inventory correcti...\n",
       "2           3  negative  china game weakness slow economic environment ...\n",
       "3           4  negative  dont know could tear apart tease apart harlan ...\n",
       "4           5  positive      thank ill turn call back jenhsun close remark"
      ]
     },
     "execution_count": 2,
     "metadata": {},
     "output_type": "execute_result"
    }
   ],
   "source": [
    "new_df.head(5)"
   ]
  },
  {
   "cell_type": "markdown",
   "metadata": {},
   "source": [
    "#### Convert output variables as Numerical Outputs"
   ]
  },
  {
   "cell_type": "code",
   "execution_count": 3,
   "metadata": {},
   "outputs": [],
   "source": [
    "from sklearn.preprocessing import LabelEncoder"
   ]
  },
  {
   "cell_type": "code",
   "execution_count": 4,
   "metadata": {},
   "outputs": [],
   "source": [
    "le = LabelEncoder()\n",
    "Y = le.fit_transform(new_df['sentiment'])"
   ]
  },
  {
   "cell_type": "markdown",
   "metadata": {},
   "source": [
    "## Bag of Words Using Count Vectorizer"
   ]
  },
  {
   "cell_type": "code",
   "execution_count": 5,
   "metadata": {},
   "outputs": [],
   "source": [
    "from sklearn.feature_extraction.text import CountVectorizer"
   ]
  },
  {
   "cell_type": "code",
   "execution_count": 6,
   "metadata": {},
   "outputs": [],
   "source": [
    "vectorizer = CountVectorizer(min_df=0, lowercase=False)"
   ]
  },
  {
   "cell_type": "code",
   "execution_count": 7,
   "metadata": {},
   "outputs": [
    {
     "data": {
      "text/plain": [
       "CountVectorizer(analyzer='word', binary=False, decode_error='strict',\n",
       "        dtype=<class 'numpy.int64'>, encoding='utf-8', input='content',\n",
       "        lowercase=False, max_df=1.0, max_features=None, min_df=0,\n",
       "        ngram_range=(1, 1), preprocessor=None, stop_words=None,\n",
       "        strip_accents=None, token_pattern='(?u)\\\\b\\\\w\\\\w+\\\\b',\n",
       "        tokenizer=None, vocabulary=None)"
      ]
     },
     "execution_count": 7,
     "metadata": {},
     "output_type": "execute_result"
    }
   ],
   "source": [
    "vectorizer.fit(new_df['text'])"
   ]
  },
  {
   "cell_type": "markdown",
   "metadata": {},
   "source": [
    "#### Converting it to an array of integers"
   ]
  },
  {
   "cell_type": "code",
   "execution_count": 8,
   "metadata": {},
   "outputs": [],
   "source": [
    "a=vectorizer.transform(new_df['text']).toarray()"
   ]
  },
  {
   "cell_type": "code",
   "execution_count": 9,
   "metadata": {},
   "outputs": [
    {
     "data": {
      "text/plain": [
       "array([[0, 0, 0, ..., 0, 0, 0],\n",
       "       [0, 0, 0, ..., 0, 0, 0],\n",
       "       [0, 0, 0, ..., 0, 0, 0],\n",
       "       ...,\n",
       "       [0, 0, 0, ..., 0, 0, 0],\n",
       "       [0, 0, 0, ..., 0, 0, 0],\n",
       "       [0, 0, 0, ..., 0, 0, 0]], dtype=int64)"
      ]
     },
     "execution_count": 9,
     "metadata": {},
     "output_type": "execute_result"
    }
   ],
   "source": [
    "a"
   ]
  },
  {
   "cell_type": "markdown",
   "metadata": {},
   "source": [
    "#### Creating Train and Test Data"
   ]
  },
  {
   "cell_type": "code",
   "execution_count": 10,
   "metadata": {},
   "outputs": [],
   "source": [
    "from sklearn.model_selection import train_test_split"
   ]
  },
  {
   "cell_type": "code",
   "execution_count": 11,
   "metadata": {},
   "outputs": [],
   "source": [
    "X_train, X_test, y_train, y_test = train_test_split(a, Y, test_size=0.2, random_state=1000)"
   ]
  },
  {
   "cell_type": "markdown",
   "metadata": {},
   "source": [
    "### Creating a  Logistic Regression Model:"
   ]
  },
  {
   "cell_type": "code",
   "execution_count": 12,
   "metadata": {},
   "outputs": [],
   "source": [
    "from sklearn.linear_model import LogisticRegression"
   ]
  },
  {
   "cell_type": "code",
   "execution_count": 13,
   "metadata": {},
   "outputs": [],
   "source": [
    "classifier = LogisticRegression()\n",
    "classifier.fit(X_train, y_train)\n",
    "score = classifier.score(X_test, y_test)"
   ]
  },
  {
   "cell_type": "code",
   "execution_count": 14,
   "metadata": {},
   "outputs": [
    {
     "name": "stdout",
     "output_type": "stream",
     "text": [
      "Accuracy: 0.8098159509202454\n"
     ]
    }
   ],
   "source": [
    "print(\"Accuracy:\", score)"
   ]
  },
  {
   "cell_type": "markdown",
   "metadata": {},
   "source": [
    "Obtained an Accuracy of 81%"
   ]
  },
  {
   "cell_type": "code",
   "execution_count": 23,
   "metadata": {},
   "outputs": [
    {
     "data": {
      "text/plain": [
       "array([1, 1, 1, 1, 1, 1, 1, 1, 1, 1, 1, 1, 1, 1, 1, 0, 1, 1, 1, 0, 0, 0,\n",
       "       1, 1, 1, 1, 1, 1, 1, 0, 1, 1, 1, 1, 1, 1, 1, 1, 1, 1, 1, 1, 1, 1,\n",
       "       1, 1, 1, 0, 0, 1, 1, 1, 1, 1, 1, 1, 1, 1, 1, 1, 1, 1, 0, 1, 1, 1,\n",
       "       1, 1, 1, 1, 1, 1, 1, 1, 1, 1, 1, 1, 1, 1, 1, 1, 1, 1, 0, 1, 1, 1,\n",
       "       1, 1, 1, 1, 1, 1, 1, 1, 1, 1, 1, 1, 1, 1, 1, 1, 1, 1, 1, 1, 1, 1,\n",
       "       1, 0, 1, 1, 1, 1, 1, 1, 1, 1, 0, 1, 1, 1, 1, 1, 1, 1, 1, 1, 1, 1,\n",
       "       1, 1, 1, 1, 1, 1, 1, 1, 1, 1, 1, 1, 1, 0, 1, 1, 1, 1, 1, 1, 1, 1,\n",
       "       1, 1, 1, 1, 1, 1, 1, 1, 1], dtype=int64)"
      ]
     },
     "execution_count": 23,
     "metadata": {},
     "output_type": "execute_result"
    }
   ],
   "source": [
    "y_pred = classifier.predict(X_test)\n",
    "y_pred"
   ]
  },
  {
   "cell_type": "code",
   "execution_count": 24,
   "metadata": {},
   "outputs": [
    {
     "data": {
      "text/plain": [
       "array([[  5,  24],\n",
       "       [  7, 127]], dtype=int64)"
      ]
     },
     "execution_count": 24,
     "metadata": {},
     "output_type": "execute_result"
    }
   ],
   "source": [
    "from sklearn.metrics import confusion_matrix\n",
    "\n",
    "confusion_matrix(y_test, y_pred)"
   ]
  },
  {
   "cell_type": "code",
   "execution_count": 25,
   "metadata": {},
   "outputs": [
    {
     "name": "stdout",
     "output_type": "stream",
     "text": [
      "             precision    recall  f1-score   support\n",
      "\n",
      "          0       0.42      0.17      0.24        29\n",
      "          1       0.84      0.95      0.89       134\n",
      "\n",
      "avg / total       0.77      0.81      0.78       163\n",
      "\n"
     ]
    }
   ],
   "source": [
    "from sklearn.metrics import classification_report\n",
    "\n",
    "print(classification_report(y_test, y_pred))"
   ]
  },
  {
   "cell_type": "code",
   "execution_count": 28,
   "metadata": {},
   "outputs": [
    {
     "data": {
      "image/png": "[encoded data removed]",
      "text/plain": [
       "<Figure size 432x288 with 2 Axes>"
      ]
     },
     "metadata": {
      "needs_background": "light"
     },
     "output_type": "display_data"
    }
   ],
   "source": [
    "import matplotlib.pyplot as plt     \n",
    "import seaborn as sns\n",
    "\n",
    "ax= plt.subplot()\n",
    "sns.heatmap(confusion_matrix(y_test, y_pred), annot=True, ax = ax, fmt='g'); #annot=True to annotate cells\n",
    "\n",
    "# labels, title and ticks\n",
    "ax.set_xlabel('Predicted labels');ax.set_ylabel('True labels'); \n",
    "ax.set_title('Confusion Matrix'); \n",
    "ax.xaxis.set_ticklabels(['Negative', 'Positive']); ax.yaxis.set_ticklabels(['Positive', 'Negative']);"
   ]
  },
  {
   "cell_type": "markdown",
   "metadata": {},
   "source": [
    "### Creating a Keras Fully connected Model"
   ]
  },
  {
   "cell_type": "code",
   "execution_count": 15,
   "metadata": {},
   "outputs": [
    {
     "name": "stderr",
     "output_type": "stream",
     "text": [
      "Using TensorFlow backend.\n"
     ]
    }
   ],
   "source": [
    "import keras\n",
    "from keras.models import Sequential\n",
    "from keras.layers import Dense, Dropout, Activation"
   ]
  },
  {
   "cell_type": "code",
   "execution_count": 38,
   "metadata": {},
   "outputs": [],
   "source": [
    "input_dim = X_train.shape[1]"
   ]
  },
  {
   "cell_type": "code",
   "execution_count": 39,
   "metadata": {},
   "outputs": [],
   "source": [
    "model_bow = Sequential()\n",
    "model_bow.add(Dense(32, input_dim=input_dim, activation='relu'))\n",
    "model_bow.add(Dropout(0.5))\n",
    "model_bow.add(Dense(32,activation='relu'))\n",
    "model_bow.add(Dropout(0.5))\n",
    "model_bow.add(Dense(1, activation='sigmoid'))"
   ]
  },
  {
   "cell_type": "code",
   "execution_count": 40,
   "metadata": {},
   "outputs": [
    {
     "name": "stdout",
     "output_type": "stream",
     "text": [
      "_________________________________________________________________\n",
      "Layer (type)                 Output Shape              Param #   \n",
      "=================================================================\n",
      "dense_10 (Dense)             (None, 32)                128032    \n",
      "_________________________________________________________________\n",
      "dropout_7 (Dropout)          (None, 32)                0         \n",
      "_________________________________________________________________\n",
      "dense_11 (Dense)             (None, 32)                1056      \n",
      "_________________________________________________________________\n",
      "dropout_8 (Dropout)          (None, 32)                0         \n",
      "_________________________________________________________________\n",
      "dense_12 (Dense)             (None, 1)                 33        \n",
      "=================================================================\n",
      "Total params: 129,121\n",
      "Trainable params: 129,121\n",
      "Non-trainable params: 0\n",
      "_________________________________________________________________\n"
     ]
    }
   ],
   "source": [
    "model_bow.compile(loss='binary_crossentropy', optimizer='adam', metrics=['accuracy'])\n",
    "model_bow.summary()"
   ]
  },
  {
   "cell_type": "code",
   "execution_count": 41,
   "metadata": {},
   "outputs": [],
   "source": [
    "history_bow = model_bow.fit(X_train, y_train,epochs=5,verbose=False,validation_data=(X_test, y_test),batch_size=10)"
   ]
  },
  {
   "cell_type": "code",
   "execution_count": 42,
   "metadata": {},
   "outputs": [
    {
     "name": "stdout",
     "output_type": "stream",
     "text": [
      "648/648 [==============================] - 0s 54us/step\n",
      "Training Accuracy: 0.8673\n",
      "163/163 [==============================] - 0s 61us/step\n",
      "Testing Accuracy:  0.8282\n"
     ]
    }
   ],
   "source": [
    "loss, accuracy = model_bow.evaluate(X_train, y_train)\n",
    "print(\"Training Accuracy: {:.4f}\".format(accuracy))\n",
    "loss, accuracy = model_bow.evaluate(X_test, y_test)\n",
    "print(\"Testing Accuracy:  {:.4f}\".format(accuracy))"
   ]
  },
  {
   "cell_type": "code",
   "execution_count": 43,
   "metadata": {},
   "outputs": [
    {
     "name": "stdout",
     "output_type": "stream",
     "text": [
      "Test Loss:  0.4681244474247189\n",
      "Test Accuracy 0.8282208592613782\n",
      "dict_keys(['val_loss', 'val_acc', 'loss', 'acc'])\n"
     ]
    },
    {
     "data": {
      "image/png": "[encoded data removed]",
      "text/plain": [
       "<Figure size 432x288 with 1 Axes>"
      ]
     },
     "metadata": {
      "needs_background": "light"
     },
     "output_type": "display_data"
    },
    {
     "data": {
      "image/png": "[encoded data removed]",
      "text/plain": [
       "<Figure size 432x288 with 1 Axes>"
      ]
     },
     "metadata": {
      "needs_background": "light"
     },
     "output_type": "display_data"
    }
   ],
   "source": [
    "import matplotlib.pyplot as plt\n",
    "#print(metrics.accuracy_score(Y_test, Y_predicted))\n",
    "\n",
    "score = model_bow.evaluate(X_test, y_test, verbose=3)\n",
    "print('Test Loss: ', score[0])\n",
    "print('Test Accuracy', score[1])\n",
    "\n",
    "\n",
    "# list all data in history\n",
    "print(history_bow.history.keys())\n",
    "# summarize history for accuracy\n",
    "plt.plot(history_bow.history['acc'])\n",
    "plt.plot(history_bow.history['val_acc'])\n",
    "plt.title('Model Accuracy')\n",
    "plt.ylabel('accuracy')\n",
    "plt.xlabel('epoch')\n",
    "plt.legend(['train', 'test'], loc='upper left')\n",
    "plt.show()\n",
    "# summarize history for loss\n",
    "plt.plot(history_bow.history['loss'])\n",
    "plt.plot(history_bow.history['val_loss'])\n",
    "plt.title('Model Loss')\n",
    "plt.ylabel('loss')\n",
    "plt.xlabel('epoch')\n",
    "plt.legend(['train', 'test'], loc='upper left')\n",
    "plt.show()"
   ]
  },
  {
   "cell_type": "code",
   "execution_count": 44,
   "metadata": {},
   "outputs": [
    {
     "data": {
      "text/plain": [
       "array([[1],\n",
       "       [1],\n",
       "       [1],\n",
       "       [1],\n",
       "       [1],\n",
       "       [1],\n",
       "       [1],\n",
       "       [1],\n",
       "       [1],\n",
       "       [1],\n",
       "       [1],\n",
       "       [1],\n",
       "       [1],\n",
       "       [1],\n",
       "       [1],\n",
       "       [1],\n",
       "       [1],\n",
       "       [1],\n",
       "       [1],\n",
       "       [1],\n",
       "       [1],\n",
       "       [1],\n",
       "       [1],\n",
       "       [1],\n",
       "       [1],\n",
       "       [1],\n",
       "       [1],\n",
       "       [1],\n",
       "       [1],\n",
       "       [1],\n",
       "       [1],\n",
       "       [1],\n",
       "       [1],\n",
       "       [1],\n",
       "       [1],\n",
       "       [1],\n",
       "       [1],\n",
       "       [1],\n",
       "       [1],\n",
       "       [1],\n",
       "       [1],\n",
       "       [1],\n",
       "       [1],\n",
       "       [1],\n",
       "       [1],\n",
       "       [1],\n",
       "       [1],\n",
       "       [1],\n",
       "       [1],\n",
       "       [1],\n",
       "       [1],\n",
       "       [1],\n",
       "       [1],\n",
       "       [1],\n",
       "       [1],\n",
       "       [1],\n",
       "       [1],\n",
       "       [1],\n",
       "       [1],\n",
       "       [1],\n",
       "       [1],\n",
       "       [1],\n",
       "       [1],\n",
       "       [1],\n",
       "       [1],\n",
       "       [1],\n",
       "       [1],\n",
       "       [1],\n",
       "       [1],\n",
       "       [1],\n",
       "       [1],\n",
       "       [1],\n",
       "       [1],\n",
       "       [1],\n",
       "       [1],\n",
       "       [1],\n",
       "       [1],\n",
       "       [1],\n",
       "       [1],\n",
       "       [1],\n",
       "       [1],\n",
       "       [1],\n",
       "       [1],\n",
       "       [1],\n",
       "       [1],\n",
       "       [1],\n",
       "       [1],\n",
       "       [1],\n",
       "       [1],\n",
       "       [1],\n",
       "       [1],\n",
       "       [1],\n",
       "       [1],\n",
       "       [1],\n",
       "       [1],\n",
       "       [1],\n",
       "       [1],\n",
       "       [1],\n",
       "       [1],\n",
       "       [1],\n",
       "       [1],\n",
       "       [1],\n",
       "       [1],\n",
       "       [1],\n",
       "       [1],\n",
       "       [1],\n",
       "       [1],\n",
       "       [1],\n",
       "       [1],\n",
       "       [1],\n",
       "       [1],\n",
       "       [1],\n",
       "       [1],\n",
       "       [1],\n",
       "       [1],\n",
       "       [1],\n",
       "       [1],\n",
       "       [1],\n",
       "       [1],\n",
       "       [1],\n",
       "       [1],\n",
       "       [1],\n",
       "       [1],\n",
       "       [1],\n",
       "       [1],\n",
       "       [1],\n",
       "       [1],\n",
       "       [1],\n",
       "       [1],\n",
       "       [1],\n",
       "       [1],\n",
       "       [1],\n",
       "       [1],\n",
       "       [1],\n",
       "       [1],\n",
       "       [1],\n",
       "       [1],\n",
       "       [1],\n",
       "       [1],\n",
       "       [1],\n",
       "       [1],\n",
       "       [1],\n",
       "       [1],\n",
       "       [1],\n",
       "       [1],\n",
       "       [0],\n",
       "       [1],\n",
       "       [1],\n",
       "       [1],\n",
       "       [1],\n",
       "       [1],\n",
       "       [1],\n",
       "       [1],\n",
       "       [1],\n",
       "       [1],\n",
       "       [1],\n",
       "       [1],\n",
       "       [1],\n",
       "       [1],\n",
       "       [1],\n",
       "       [1],\n",
       "       [1],\n",
       "       [1]])"
      ]
     },
     "execution_count": 44,
     "metadata": {},
     "output_type": "execute_result"
    }
   ],
   "source": [
    "y_pred_bow = model_bow.predict_classes(X_test)\n",
    "y_pred_bow"
   ]
  },
  {
   "cell_type": "code",
   "execution_count": 45,
   "metadata": {},
   "outputs": [
    {
     "data": {
      "text/plain": [
       "array([[  1,  28],\n",
       "       [  0, 134]], dtype=int64)"
      ]
     },
     "execution_count": 45,
     "metadata": {},
     "output_type": "execute_result"
    }
   ],
   "source": [
    "from sklearn.metrics import confusion_matrix\n",
    "\n",
    "confusion_matrix(y_test, y_pred_bow)"
   ]
  },
  {
   "cell_type": "code",
   "execution_count": 46,
   "metadata": {},
   "outputs": [
    {
     "name": "stdout",
     "output_type": "stream",
     "text": [
      "             precision    recall  f1-score   support\n",
      "\n",
      "          0       1.00      0.03      0.07        29\n",
      "          1       0.83      1.00      0.91       134\n",
      "\n",
      "avg / total       0.86      0.83      0.76       163\n",
      "\n"
     ]
    }
   ],
   "source": [
    "from sklearn.metrics import classification_report\n",
    "\n",
    "print(classification_report(y_test, y_pred_bow))"
   ]
  },
  {
   "cell_type": "code",
   "execution_count": 47,
   "metadata": {},
   "outputs": [
    {
     "data": {
      "image/png": "[encoded data removed]",
      "text/plain": [
       "<Figure size 432x288 with 2 Axes>"
      ]
     },
     "metadata": {
      "needs_background": "light"
     },
     "output_type": "display_data"
    }
   ],
   "source": [
    "import matplotlib.pyplot as plt     \n",
    "import seaborn as sns\n",
    "\n",
    "ax= plt.subplot()\n",
    "sns.heatmap(confusion_matrix(y_test, y_pred_bow), annot=True, ax = ax, fmt='g'); #annot=True to annotate cells\n",
    "\n",
    "# labels, title and ticks\n",
    "ax.set_xlabel('Predicted labels');ax.set_ylabel('True labels'); \n",
    "ax.set_title('Confusion Matrix'); \n",
    "ax.xaxis.set_ticklabels(['Negative', 'Positive']); ax.yaxis.set_ticklabels(['Positive', 'Negative']);"
   ]
  },
  {
   "cell_type": "markdown",
   "metadata": {},
   "source": [
    "## LSTM"
   ]
  },
  {
   "cell_type": "code",
   "execution_count": 48,
   "metadata": {},
   "outputs": [],
   "source": [
    "from keras.preprocessing.text import Tokenizer\n",
    "from keras.preprocessing.sequence import pad_sequences\n",
    "from keras.models import Sequential\n",
    "from keras.layers import Dense, Flatten, LSTM, Conv1D, MaxPooling1D, Dropout, Activation\n",
    "from keras.layers.embeddings import Embedding"
   ]
  },
  {
   "cell_type": "code",
   "execution_count": 49,
   "metadata": {},
   "outputs": [],
   "source": [
    "import nltk\n",
    "import string\n",
    "import numpy as np\n",
    "import pandas as pd"
   ]
  },
  {
   "cell_type": "code",
   "execution_count": 50,
   "metadata": {},
   "outputs": [],
   "source": [
    "from sklearn.manifold import TSNE"
   ]
  },
  {
   "cell_type": "code",
   "execution_count": 110,
   "metadata": {},
   "outputs": [],
   "source": [
    "vocabulary_size = 20000\n",
    "tokenizer = Tokenizer(num_words= vocabulary_size)\n",
    "tokenizer.fit_on_texts(new_df['text'])"
   ]
  },
  {
   "cell_type": "code",
   "execution_count": 111,
   "metadata": {},
   "outputs": [],
   "source": [
    "sequences = tokenizer.texts_to_sequences(new_df['text'])\n",
    "data = pad_sequences(sequences, maxlen=50)"
   ]
  },
  {
   "cell_type": "code",
   "execution_count": 112,
   "metadata": {},
   "outputs": [],
   "source": [
    "model_lstm = Sequential()\n",
    "model_lstm.add(Embedding(20000, 100, input_length=50))\n",
    "model_lstm.add(LSTM(100,activation='relu', dropout=0.5))\n",
    "model_lstm.add(Dense(1, activation='sigmoid'))\n",
    "model_lstm.compile(loss='binary_crossentropy', optimizer='adam', metrics=['accuracy'])"
   ]
  },
  {
   "cell_type": "code",
   "execution_count": 113,
   "metadata": {},
   "outputs": [
    {
     "name": "stdout",
     "output_type": "stream",
     "text": [
      "Train on 648 samples, validate on 163 samples\n",
      "Epoch 1/4\n",
      "648/648 [==============================] - 5s 8ms/step - loss: 0.6542 - acc: 0.7608 - val_loss: 0.5946 - val_acc: 0.7485\n",
      "Epoch 2/4\n",
      "648/648 [==============================] - 2s 3ms/step - loss: 0.5361 - acc: 0.8210 - val_loss: 0.5504 - val_acc: 0.7485\n",
      "Epoch 3/4\n",
      "648/648 [==============================] - 2s 3ms/step - loss: 0.4030 - acc: 0.8210 - val_loss: 0.5443 - val_acc: 0.7485\n",
      "Epoch 4/4\n",
      "648/648 [==============================] - 2s 3ms/step - loss: 0.3345 - acc: 0.8210 - val_loss: 0.5319 - val_acc: 0.7485\n"
     ]
    }
   ],
   "source": [
    "history_lstm=model_lstm.fit(data, np.array(Y), validation_split=0.2, epochs=4)"
   ]
  },
  {
   "cell_type": "code",
   "execution_count": 114,
   "metadata": {},
   "outputs": [
    {
     "name": "stdout",
     "output_type": "stream",
     "text": [
      "Test Loss:  0.4681244474247189\n",
      "Test Accuracy 0.8282208592613782\n",
      "dict_keys(['val_loss', 'val_acc', 'loss', 'acc'])\n"
     ]
    },
    {
     "data": {
      "image/png": "[encoded data removed]",
      "text/plain": [
       "<Figure size 432x288 with 1 Axes>"
      ]
     },
     "metadata": {
      "needs_background": "light"
     },
     "output_type": "display_data"
    },
    {
     "data": {
      "image/png": "[encoded data removed]",
      "text/plain": [
       "<Figure size 432x288 with 1 Axes>"
      ]
     },
     "metadata": {
      "needs_background": "light"
     },
     "output_type": "display_data"
    }
   ],
   "source": [
    "import matplotlib.pyplot as plt\n",
    "#print(metrics.accuracy_score(Y_test, Y_predicted))\n",
    "\n",
    "#score = model_lstm.evaluate(X_test, y_test, verbose=3)\n",
    "print('Test Loss: ', score[0])\n",
    "print('Test Accuracy', score[1])\n",
    "\n",
    "\n",
    "# list all data in history\n",
    "print(history_lstm.history.keys())\n",
    "# summarize history for accuracy\n",
    "plt.plot(history_lstm.history['acc'])\n",
    "plt.plot(history_lstm.history['val_acc'])\n",
    "plt.title('Model Accuracy')\n",
    "plt.ylabel('accuracy')\n",
    "plt.xlabel('epoch')\n",
    "plt.legend(['train', 'test'], loc='upper left')\n",
    "plt.show()\n",
    "# summarize history for loss\n",
    "plt.plot(history_lstm.history['loss'])\n",
    "plt.plot(history_lstm.history['val_loss'])\n",
    "plt.title('Model Loss')\n",
    "plt.ylabel('loss')\n",
    "plt.xlabel('epoch')\n",
    "plt.legend(['train', 'test'], loc='upper left')\n",
    "plt.show()"
   ]
  },
  {
   "cell_type": "markdown",
   "metadata": {},
   "source": [
    "## Glove"
   ]
  },
  {
   "cell_type": "code",
   "execution_count": 92,
   "metadata": {},
   "outputs": [],
   "source": [
    "from keras.preprocessing.text import Tokenizer\n",
    "from keras.preprocessing.sequence import pad_sequences\n",
    "from keras.utils import to_categorical\n",
    "from keras.layers import Dense, Input, GlobalMaxPooling1D\n",
    "from keras.layers import Conv1D, MaxPooling1D, Embedding\n",
    "from keras.models import Model\n",
    "from keras.initializers import Constant"
   ]
  },
  {
   "cell_type": "code",
   "execution_count": 115,
   "metadata": {},
   "outputs": [],
   "source": [
    "MAX_SEQUENCE_LENGTH = 50\n",
    "MAX_NUM_WORDS = 20000\n",
    "EMBEDDING_DIM = 100\n",
    "VALIDATION_SPLIT = 0.2"
   ]
  },
  {
   "cell_type": "code",
   "execution_count": 116,
   "metadata": {},
   "outputs": [],
   "source": [
    "indices = np.arange(data.shape[0])\n",
    "np.random.shuffle(indices)\n",
    "data = data[indices]\n",
    "labels = Y[indices]\n",
    "nb_validation_samples = int(0.2 * data.shape[0])"
   ]
  },
  {
   "cell_type": "code",
   "execution_count": 117,
   "metadata": {},
   "outputs": [],
   "source": [
    "x_train = data[:-nb_validation_samples]\n",
    "y_train = labels[:-nb_validation_samples]\n",
    "x_val = data[-nb_validation_samples:]\n",
    "y_val = labels[-nb_validation_samples:]"
   ]
  },
  {
   "cell_type": "code",
   "execution_count": 103,
   "metadata": {},
   "outputs": [],
   "source": [
    "embeddings_index = {}\n",
    "f = open('glove.6B.100d.txt',encoding=\"utf8\")\n",
    "for line in f:\n",
    "    values = line.split()\n",
    "    word = values[0]\n",
    "    coefs = np.asarray(values[1:], dtype='float32')\n",
    "    embeddings_index[word] = coefs\n",
    "f.close()"
   ]
  },
  {
   "cell_type": "code",
   "execution_count": 121,
   "metadata": {},
   "outputs": [],
   "source": [
    "word_index = tokenizer.word_index\n",
    "num_words = min(MAX_NUM_WORDS, len(word_index)) + 1\n",
    "embedding_matrix = np.zeros((len(word_index) + 1, 100))\n",
    "for word, i in word_index.items():\n",
    "    if i > MAX_NUM_WORDS:\n",
    "        continue\n",
    "    embedding_vector = embeddings_index.get(word)\n",
    "    if embedding_vector is not None:\n",
    "        # words not found in embedding index will be all-zeros.\n",
    "        embedding_matrix[i] = embedding_vector"
   ]
  },
  {
   "cell_type": "markdown",
   "metadata": {},
   "source": [
    "#### Model 1"
   ]
  },
  {
   "cell_type": "code",
   "execution_count": 127,
   "metadata": {},
   "outputs": [],
   "source": [
    "from keras.layers import Embedding\n",
    "\n",
    "embedding_layer = Embedding(num_words,\n",
    "                            100,\n",
    "                            embeddings_initializer=Constant(embedding_matrix),\n",
    "                            input_length=50,\n",
    "                            trainable=False)"
   ]
  },
  {
   "cell_type": "code",
   "execution_count": 123,
   "metadata": {},
   "outputs": [
    {
     "name": "stdout",
     "output_type": "stream",
     "text": [
      "Train on 649 samples, validate on 162 samples\n",
      "Epoch 1/10\n",
      "649/649 [==============================] - 4s 6ms/step - loss: 2.9477 - acc: 0.8151 - val_loss: 3.6412 - val_acc: 0.7716\n",
      "Epoch 2/10\n",
      "649/649 [==============================] - 1s 1ms/step - loss: 2.9477 - acc: 0.8151 - val_loss: 3.6412 - val_acc: 0.7716\n",
      "Epoch 3/10\n",
      "649/649 [==============================] - 1s 1ms/step - loss: 2.9477 - acc: 0.8151 - val_loss: 3.6412 - val_acc: 0.7716\n",
      "Epoch 4/10\n",
      "649/649 [==============================] - 1s 1ms/step - loss: 2.9477 - acc: 0.8151 - val_loss: 3.6412 - val_acc: 0.7716\n",
      "Epoch 5/10\n",
      "649/649 [==============================] - 1s 1ms/step - loss: 2.9477 - acc: 0.8151 - val_loss: 3.6412 - val_acc: 0.7716\n",
      "Epoch 6/10\n",
      "649/649 [==============================] - 1s 1ms/step - loss: 2.9477 - acc: 0.8151 - val_loss: 3.6412 - val_acc: 0.7716\n",
      "Epoch 7/10\n",
      "649/649 [==============================] - 1s 1ms/step - loss: 2.9477 - acc: 0.8151 - val_loss: 3.6412 - val_acc: 0.7716\n",
      "Epoch 8/10\n",
      "649/649 [==============================] - 1s 1ms/step - loss: 2.9477 - acc: 0.8151 - val_loss: 3.6412 - val_acc: 0.7716\n",
      "Epoch 9/10\n",
      "649/649 [==============================] - 1s 1ms/step - loss: 2.9477 - acc: 0.8151 - val_loss: 3.6412 - val_acc: 0.7716\n",
      "Epoch 10/10\n",
      "649/649 [==============================] - 1s 1ms/step - loss: 2.9477 - acc: 0.8151 - val_loss: 3.6412 - val_acc: 0.7716\n"
     ]
    }
   ],
   "source": [
    "sequence_input = Input(shape=(50,), dtype='int32')\n",
    "embedded_sequences = embedding_layer(sequence_input)\n",
    "x = Conv1D(128, 5, activation='relu')(embedded_sequences)\n",
    "x = MaxPooling1D(5)(x)\n",
    "x = Conv1D(128, 5, activation='relu')(x)\n",
    "x = MaxPooling1D(5)(x)\n",
    "x = Conv1D(128, 5, activation='relu',data_format='channels_first')(x)\n",
    "x = MaxPooling1D(35)(x)  # global max pooling\n",
    "x = Flatten()(x)\n",
    "x = Dense(128, activation='relu')(x)\n",
    "preds = Dense(1, activation='softmax')(x)\n",
    "\n",
    "model_glove = Model(sequence_input, preds)\n",
    "model_glove.compile(loss='binary_crossentropy',\n",
    "              optimizer='adam',\n",
    "              metrics=['acc'])\n",
    "\n",
    "# happy learning!\n",
    "history_glove=model_glove.fit(x_train, y_train, validation_data=(x_val, y_val),epochs=10, batch_size=32)"
   ]
  },
  {
   "cell_type": "markdown",
   "metadata": {},
   "source": [
    "#### Model 2"
   ]
  },
  {
   "cell_type": "code",
   "execution_count": 129,
   "metadata": {},
   "outputs": [
    {
     "name": "stdout",
     "output_type": "stream",
     "text": [
      "Train on 649 samples, validate on 162 samples\n",
      "Epoch 1/10\n",
      "649/649 [==============================] - 3s 5ms/step - loss: 0.5295 - acc: 0.8136 - val_loss: 0.5935 - val_acc: 0.7778\n",
      "Epoch 2/10\n",
      "649/649 [==============================] - 0s 413us/step - loss: 0.5260 - acc: 0.8136 - val_loss: 0.5919 - val_acc: 0.7778\n",
      "Epoch 3/10\n",
      "649/649 [==============================] - 0s 421us/step - loss: 0.5235 - acc: 0.8136 - val_loss: 0.5905 - val_acc: 0.7778\n",
      "Epoch 4/10\n",
      "649/649 [==============================] - 0s 418us/step - loss: 0.5209 - acc: 0.8151 - val_loss: 0.5892 - val_acc: 0.7778\n",
      "Epoch 5/10\n",
      "649/649 [==============================] - 0s 438us/step - loss: 0.5185 - acc: 0.8151 - val_loss: 0.5884 - val_acc: 0.7778\n",
      "Epoch 6/10\n",
      "649/649 [==============================] - 0s 421us/step - loss: 0.5161 - acc: 0.8151 - val_loss: 0.5876 - val_acc: 0.7778\n",
      "Epoch 7/10\n",
      "649/649 [==============================] - 0s 433us/step - loss: 0.5139 - acc: 0.8151 - val_loss: 0.5866 - val_acc: 0.7778\n",
      "Epoch 8/10\n",
      "649/649 [==============================] - 0s 422us/step - loss: 0.5119 - acc: 0.8151 - val_loss: 0.5856 - val_acc: 0.7778\n",
      "Epoch 9/10\n",
      "649/649 [==============================] - 0s 420us/step - loss: 0.5099 - acc: 0.8166 - val_loss: 0.5841 - val_acc: 0.7778\n",
      "Epoch 10/10\n",
      "649/649 [==============================] - 0s 427us/step - loss: 0.5081 - acc: 0.8166 - val_loss: 0.5829 - val_acc: 0.7778\n"
     ]
    }
   ],
   "source": [
    "from keras.optimizers import adam\n",
    "sequence_input = Input(shape=(50,), dtype='int32')\n",
    "embedded_sequences = embedding_layer(sequence_input)\n",
    "x = Conv1D(32, 5, activation='relu')(embedded_sequences)\n",
    "x = MaxPooling1D(5)(x)\n",
    "#x = Conv1D(64, 5, activation='relu',data_format='channels_first')(x)\n",
    "#x = MaxPooling1D(5)(x)  # global max pooling\n",
    "x = Flatten()(x)\n",
    "x = Dense(32, activation='relu')(x)\n",
    "preds = Dense(1, activation='sigmoid')(x)\n",
    "\n",
    "model_glove1 = Model(sequence_input, preds)\n",
    "model_glove1.compile(loss='binary_crossentropy',\n",
    "              optimizer=adam(lr=0.00001),\n",
    "              metrics=['accuracy'])\n",
    "\n",
    "# happy learning!\n",
    "history_glove1=model_glove1.fit(x_train, y_train, validation_data=(x_val, y_val),epochs=10, batch_size=32)"
   ]
  },
  {
   "cell_type": "markdown",
   "metadata": {},
   "source": [
    "#### Model 3 with Trainable = True"
   ]
  },
  {
   "cell_type": "code",
   "execution_count": 130,
   "metadata": {},
   "outputs": [],
   "source": [
    "from keras.layers import Embedding\n",
    "\n",
    "embedding_layer_new = Embedding(num_words,\n",
    "                            100,\n",
    "                            embeddings_initializer=Constant(embedding_matrix),\n",
    "                            input_length=50,\n",
    "                            trainable=True)"
   ]
  },
  {
   "cell_type": "code",
   "execution_count": 131,
   "metadata": {},
   "outputs": [
    {
     "name": "stdout",
     "output_type": "stream",
     "text": [
      "Train on 649 samples, validate on 162 samples\n",
      "Epoch 1/10\n",
      "649/649 [==============================] - 4s 6ms/step - loss: 0.5631 - acc: 0.7612 - val_loss: 0.5982 - val_acc: 0.7284\n",
      "Epoch 2/10\n",
      "649/649 [==============================] - 0s 621us/step - loss: 0.5491 - acc: 0.7735 - val_loss: 0.5926 - val_acc: 0.7407\n",
      "Epoch 3/10\n",
      "649/649 [==============================] - 0s 644us/step - loss: 0.5385 - acc: 0.7827 - val_loss: 0.5890 - val_acc: 0.7407\n",
      "Epoch 4/10\n",
      "649/649 [==============================] - 0s 619us/step - loss: 0.5301 - acc: 0.7874 - val_loss: 0.5866 - val_acc: 0.7469\n",
      "Epoch 5/10\n",
      "649/649 [==============================] - 0s 633us/step - loss: 0.5233 - acc: 0.7920 - val_loss: 0.5853 - val_acc: 0.7531\n",
      "Epoch 6/10\n",
      "649/649 [==============================] - 0s 621us/step - loss: 0.5184 - acc: 0.7951 - val_loss: 0.5843 - val_acc: 0.7469\n",
      "Epoch 7/10\n",
      "649/649 [==============================] - 0s 612us/step - loss: 0.5138 - acc: 0.7951 - val_loss: 0.5838 - val_acc: 0.7469\n",
      "Epoch 8/10\n",
      "649/649 [==============================] - 0s 636us/step - loss: 0.5099 - acc: 0.7966 - val_loss: 0.5835 - val_acc: 0.7469\n",
      "Epoch 9/10\n",
      "649/649 [==============================] - 0s 615us/step - loss: 0.5069 - acc: 0.7966 - val_loss: 0.5835 - val_acc: 0.7469\n",
      "Epoch 10/10\n",
      "649/649 [==============================] - 0s 636us/step - loss: 0.5043 - acc: 0.7982 - val_loss: 0.5835 - val_acc: 0.7469\n"
     ]
    }
   ],
   "source": [
    "from keras.optimizers import adam\n",
    "sequence_input = Input(shape=(50,), dtype='int32')\n",
    "embedded_sequences = embedding_layer_new(sequence_input)\n",
    "x = Conv1D(32, 5, activation='relu')(embedded_sequences)\n",
    "x = MaxPooling1D(5)(x)\n",
    "#x = Conv1D(64, 5, activation='relu',data_format='channels_first')(x)\n",
    "#x = MaxPooling1D(5)(x)  # global max pooling\n",
    "x = Flatten()(x)\n",
    "x = Dense(32, activation='relu')(x)\n",
    "preds = Dense(1, activation='sigmoid')(x)\n",
    "\n",
    "model_glove2 = Model(sequence_input, preds)\n",
    "model_glove2.compile(loss='binary_crossentropy',\n",
    "              optimizer=adam(lr=0.00001),\n",
    "              metrics=['accuracy'])\n",
    "\n",
    "# happy learning!\n",
    "history_glove2=model_glove2.fit(x_train, y_train, validation_data=(x_val, y_val),epochs=10, batch_size=32)"
   ]
  },
  {
   "cell_type": "markdown",
   "metadata": {},
   "source": [
    "#### Model 1 Plot"
   ]
  },
  {
   "cell_type": "code",
   "execution_count": 133,
   "metadata": {},
   "outputs": [
    {
     "name": "stdout",
     "output_type": "stream",
     "text": [
      "dict_keys(['val_loss', 'val_acc', 'loss', 'acc'])\n"
     ]
    },
    {
     "data": {
      "image/png": "[encoded data removed]",
      "text/plain": [
       "<Figure size 432x288 with 1 Axes>"
      ]
     },
     "metadata": {
      "needs_background": "light"
     },
     "output_type": "display_data"
    },
    {
     "data": {
      "image/png": "[encoded data removed]",
      "text/plain": [
       "<Figure size 432x288 with 1 Axes>"
      ]
     },
     "metadata": {
      "needs_background": "light"
     },
     "output_type": "display_data"
    }
   ],
   "source": [
    "import matplotlib.pyplot as plt\n",
    "#print(metrics.accuracy_score(Y_test, Y_predicted))\n",
    "\n",
    "#score = model_lstm.evaluate(X_test, y_test, verbose=3)\n",
    "#print('Test Loss: ', score[0])\n",
    "#print('Test Accuracy', score[1])\n",
    "\n",
    "\n",
    "# list all data in history\n",
    "print(history_glove.history.keys())\n",
    "# summarize history for accuracy\n",
    "plt.plot(history_glove.history['acc'])\n",
    "plt.plot(history_glove.history['val_acc'])\n",
    "plt.title('Model Accuracy')\n",
    "plt.ylabel('accuracy')\n",
    "plt.xlabel('epoch')\n",
    "plt.legend(['train', 'test'], loc='upper left')\n",
    "plt.show()\n",
    "# summarize history for loss\n",
    "plt.plot(history_glove.history['loss'])\n",
    "plt.plot(history_glove.history['val_loss'])\n",
    "plt.title('Model Loss')\n",
    "plt.ylabel('loss')\n",
    "plt.xlabel('epoch')\n",
    "plt.legend(['train', 'test'], loc='upper left')\n",
    "plt.show()"
   ]
  },
  {
   "cell_type": "markdown",
   "metadata": {},
   "source": [
    "#### Model 2 Plot"
   ]
  },
  {
   "cell_type": "code",
   "execution_count": 134,
   "metadata": {},
   "outputs": [
    {
     "name": "stdout",
     "output_type": "stream",
     "text": [
      "dict_keys(['val_loss', 'val_acc', 'loss', 'acc'])\n"
     ]
    },
    {
     "data": {
      "image/png": "[encoded data removed]",
      "text/plain": [
       "<Figure size 432x288 with 1 Axes>"
      ]
     },
     "metadata": {
      "needs_background": "light"
     },
     "output_type": "display_data"
    },
    {
     "data": {
      "image/png": "[encoded data removed]",
      "text/plain": [
       "<Figure size 432x288 with 1 Axes>"
      ]
     },
     "metadata": {
      "needs_background": "light"
     },
     "output_type": "display_data"
    }
   ],
   "source": [
    "import matplotlib.pyplot as plt\n",
    "#print(metrics.accuracy_score(Y_test, Y_predicted))\n",
    "\n",
    "#score = model_lstm.evaluate(X_test, y_test, verbose=3)\n",
    "#print('Test Loss: ', score[0])\n",
    "#print('Test Accuracy', score[1])\n",
    "\n",
    "\n",
    "# list all data in history\n",
    "print(history_glove.history.keys())\n",
    "# summarize history for accuracy\n",
    "plt.plot(history_glove1.history['acc'])\n",
    "plt.plot(history_glove1.history['val_acc'])\n",
    "plt.title('Model Accuracy')\n",
    "plt.ylabel('accuracy')\n",
    "plt.xlabel('epoch')\n",
    "plt.legend(['train', 'test'], loc='upper left')\n",
    "plt.show()\n",
    "# summarize history for loss\n",
    "plt.plot(history_glove1.history['loss'])\n",
    "plt.plot(history_glove1.history['val_loss'])\n",
    "plt.title('Model Loss')\n",
    "plt.ylabel('loss')\n",
    "plt.xlabel('epoch')\n",
    "plt.legend(['train', 'test'], loc='upper left')\n",
    "plt.show()"
   ]
  },
  {
   "cell_type": "markdown",
   "metadata": {},
   "source": [
    "#### Model 3 Trainable True Plot"
   ]
  },
  {
   "cell_type": "code",
   "execution_count": 135,
   "metadata": {},
   "outputs": [
    {
     "name": "stdout",
     "output_type": "stream",
     "text": [
      "dict_keys(['val_loss', 'val_acc', 'loss', 'acc'])\n"
     ]
    },
    {
     "data": {
      "image/png": "[encoded data removed]",
      "text/plain": [
       "<Figure size 432x288 with 1 Axes>"
      ]
     },
     "metadata": {
      "needs_background": "light"
     },
     "output_type": "display_data"
    },
    {
     "data": {
      "image/png": "[encoded data removed]",
      "text/plain": [
       "<Figure size 432x288 with 1 Axes>"
      ]
     },
     "metadata": {
      "needs_background": "light"
     },
     "output_type": "display_data"
    }
   ],
   "source": [
    "import matplotlib.pyplot as plt\n",
    "#print(metrics.accuracy_score(Y_test, Y_predicted))\n",
    "\n",
    "#score = model_lstm.evaluate(X_test, y_test, verbose=3)\n",
    "#print('Test Loss: ', score[0])\n",
    "#print('Test Accuracy', score[1])\n",
    "\n",
    "\n",
    "# list all data in history\n",
    "print(history_glove2.history.keys())\n",
    "# summarize history for accuracy\n",
    "plt.plot(history_glove2.history['acc'])\n",
    "plt.plot(history_glove2.history['val_acc'])\n",
    "plt.title('Model Accuracy')\n",
    "plt.ylabel('accuracy')\n",
    "plt.xlabel('epoch')\n",
    "plt.legend(['train', 'test'], loc='upper left')\n",
    "plt.show()\n",
    "# summarize history for loss\n",
    "plt.plot(history_glove2.history['loss'])\n",
    "plt.plot(history_glove2.history['val_loss'])\n",
    "plt.title('Model Loss')\n",
    "plt.ylabel('loss')\n",
    "plt.xlabel('epoch')\n",
    "plt.legend(['train', 'test'], loc='upper left')\n",
    "plt.show()"
   ]
  },
  {
   "cell_type": "markdown",
   "metadata": {},
   "source": [
    "#### GE Model using logisticRegression and BOW"
   ]
  },
  {
   "cell_type": "code",
   "execution_count": 149,
   "metadata": {},
   "outputs": [],
   "source": [
    "import pandas as pd\n",
    "new_df=pd.read_json('GE_Earnings_Transcript.json')"
   ]
  },
  {
   "cell_type": "code",
   "execution_count": 150,
   "metadata": {},
   "outputs": [
    {
     "data": {
      "text/html": [
       "<div>\n",
       "<style scoped>\n",
       "    .dataframe tbody tr th:only-of-type {\n",
       "        vertical-align: middle;\n",
       "    }\n",
       "\n",
       "    .dataframe tbody tr th {\n",
       "        vertical-align: top;\n",
       "    }\n",
       "\n",
       "    .dataframe thead th {\n",
       "        text-align: right;\n",
       "    }\n",
       "</style>\n",
       "<table border=\"1\" class=\"dataframe\">\n",
       "  <thead>\n",
       "    <tr style=\"text-align: right;\">\n",
       "      <th></th>\n",
       "      <th>text</th>\n",
       "      <th>sentiment</th>\n",
       "    </tr>\n",
       "  </thead>\n",
       "  <tbody>\n",
       "    <tr>\n",
       "      <th>0</th>\n",
       "      <td>Good day, ladies and gentlemen and welcome to ...</td>\n",
       "      <td>Neutral</td>\n",
       "    </tr>\n",
       "    <tr>\n",
       "      <th>1</th>\n",
       "      <td>I would now like to turn the program over to y...</td>\n",
       "      <td>Neutral</td>\n",
       "    </tr>\n",
       "    <tr>\n",
       "      <th>10</th>\n",
       "      <td>Let's start with the outlook because investors...</td>\n",
       "      <td>Neutral</td>\n",
       "    </tr>\n",
       "    <tr>\n",
       "      <th>100</th>\n",
       "      <td>Well Steve, I'd like to think that everything ...</td>\n",
       "      <td>Negative</td>\n",
       "    </tr>\n",
       "    <tr>\n",
       "      <th>101</th>\n",
       "      <td>With respect to Baker Hughes, I mean we talked...</td>\n",
       "      <td>Negative</td>\n",
       "    </tr>\n",
       "  </tbody>\n",
       "</table>\n",
       "</div>"
      ],
      "text/plain": [
       "                                                  text sentiment\n",
       "0    Good day, ladies and gentlemen and welcome to ...   Neutral\n",
       "1    I would now like to turn the program over to y...   Neutral\n",
       "10   Let's start with the outlook because investors...   Neutral\n",
       "100  Well Steve, I'd like to think that everything ...  Negative\n",
       "101  With respect to Baker Hughes, I mean we talked...  Negative"
      ]
     },
     "execution_count": 150,
     "metadata": {},
     "output_type": "execute_result"
    }
   ],
   "source": [
    "new_df.head(5)"
   ]
  },
  {
   "cell_type": "code",
   "execution_count": 152,
   "metadata": {},
   "outputs": [
    {
     "data": {
      "text/html": [
       "<div>\n",
       "<style scoped>\n",
       "    .dataframe tbody tr th:only-of-type {\n",
       "        vertical-align: middle;\n",
       "    }\n",
       "\n",
       "    .dataframe tbody tr th {\n",
       "        vertical-align: top;\n",
       "    }\n",
       "\n",
       "    .dataframe thead th {\n",
       "        text-align: right;\n",
       "    }\n",
       "</style>\n",
       "<table border=\"1\" class=\"dataframe\">\n",
       "  <thead>\n",
       "    <tr style=\"text-align: right;\">\n",
       "      <th></th>\n",
       "      <th>text</th>\n",
       "      <th>sentiment</th>\n",
       "    </tr>\n",
       "  </thead>\n",
       "  <tbody>\n",
       "    <tr>\n",
       "      <th>0</th>\n",
       "      <td>Good day, ladies and gentlemen and welcome to ...</td>\n",
       "      <td>Neutral</td>\n",
       "    </tr>\n",
       "    <tr>\n",
       "      <th>1</th>\n",
       "      <td>I would now like to turn the program over to y...</td>\n",
       "      <td>Neutral</td>\n",
       "    </tr>\n",
       "    <tr>\n",
       "      <th>10</th>\n",
       "      <td>Let's start with the outlook because investors...</td>\n",
       "      <td>Neutral</td>\n",
       "    </tr>\n",
       "    <tr>\n",
       "      <th>103</th>\n",
       "      <td>Well, Jeff what I was referring to there was t...</td>\n",
       "      <td>Neutral</td>\n",
       "    </tr>\n",
       "    <tr>\n",
       "      <th>104</th>\n",
       "      <td>Sorry about that Jeff.</td>\n",
       "      <td>Neutral</td>\n",
       "    </tr>\n",
       "    <tr>\n",
       "      <th>105</th>\n",
       "      <td>Thanks.</td>\n",
       "      <td>Neutral</td>\n",
       "    </tr>\n",
       "    <tr>\n",
       "      <th>106</th>\n",
       "      <td>From Barclays, we have Julian Mitchell.</td>\n",
       "      <td>Neutral</td>\n",
       "    </tr>\n",
       "    <tr>\n",
       "      <th>114</th>\n",
       "      <td>With respect to Aviation's merger and mix you ...</td>\n",
       "      <td>Neutral</td>\n",
       "    </tr>\n",
       "    <tr>\n",
       "      <th>115</th>\n",
       "      <td>We're clearly in conversations with our major ...</td>\n",
       "      <td>Neutral</td>\n",
       "    </tr>\n",
       "    <tr>\n",
       "      <th>116</th>\n",
       "      <td>From Melius Research, we have Scott Davis. Ple...</td>\n",
       "      <td>Neutral</td>\n",
       "    </tr>\n",
       "    <tr>\n",
       "      <th>117</th>\n",
       "      <td>Hey. Good morning, guys.</td>\n",
       "      <td>Neutral</td>\n",
       "    </tr>\n",
       "    <tr>\n",
       "      <th>118</th>\n",
       "      <td>Good morning, Scott.</td>\n",
       "      <td>Neutral</td>\n",
       "    </tr>\n",
       "    <tr>\n",
       "      <th>123</th>\n",
       "      <td>And from Citi, we have Andrew Kaplowitz. Pleas...</td>\n",
       "      <td>Neutral</td>\n",
       "    </tr>\n",
       "    <tr>\n",
       "      <th>125</th>\n",
       "      <td>Larry Culp</td>\n",
       "      <td>Neutral</td>\n",
       "    </tr>\n",
       "    <tr>\n",
       "      <th>128</th>\n",
       "      <td>Andrew Kaplowitz</td>\n",
       "      <td>Neutral</td>\n",
       "    </tr>\n",
       "    <tr>\n",
       "      <th>129</th>\n",
       "      <td>And Larry, you're pretty clear about having no...</td>\n",
       "      <td>Neutral</td>\n",
       "    </tr>\n",
       "    <tr>\n",
       "      <th>130</th>\n",
       "      <td>Larry Culp</td>\n",
       "      <td>Neutral</td>\n",
       "    </tr>\n",
       "    <tr>\n",
       "      <th>132</th>\n",
       "      <td>Operator</td>\n",
       "      <td>Neutral</td>\n",
       "    </tr>\n",
       "    <tr>\n",
       "      <th>133</th>\n",
       "      <td>From Bank of America Merrill Lynch, we have An...</td>\n",
       "      <td>Neutral</td>\n",
       "    </tr>\n",
       "    <tr>\n",
       "      <th>134</th>\n",
       "      <td>Andrew Obin</td>\n",
       "      <td>Neutral</td>\n",
       "    </tr>\n",
       "    <tr>\n",
       "      <th>135</th>\n",
       "      <td>Hi, good morning. Just a question. You mention...</td>\n",
       "      <td>Neutral</td>\n",
       "    </tr>\n",
       "    <tr>\n",
       "      <th>136</th>\n",
       "      <td>Jamie Miller</td>\n",
       "      <td>Neutral</td>\n",
       "    </tr>\n",
       "    <tr>\n",
       "      <th>137</th>\n",
       "      <td>We asked our new controller, when he started t...</td>\n",
       "      <td>Neutral</td>\n",
       "    </tr>\n",
       "    <tr>\n",
       "      <th>14</th>\n",
       "      <td>For the year, we signed or completed substanti...</td>\n",
       "      <td>Neutral</td>\n",
       "    </tr>\n",
       "    <tr>\n",
       "      <th>140</th>\n",
       "      <td>Andrew Obin</td>\n",
       "      <td>Neutral</td>\n",
       "    </tr>\n",
       "    <tr>\n",
       "      <th>141</th>\n",
       "      <td>Got you. And just on GE Capital. How much incr...</td>\n",
       "      <td>Neutral</td>\n",
       "    </tr>\n",
       "    <tr>\n",
       "      <th>142</th>\n",
       "      <td>Jamie Miller</td>\n",
       "      <td>Neutral</td>\n",
       "    </tr>\n",
       "    <tr>\n",
       "      <th>144</th>\n",
       "      <td>Operator</td>\n",
       "      <td>Neutral</td>\n",
       "    </tr>\n",
       "    <tr>\n",
       "      <th>145</th>\n",
       "      <td>From Deutsche Bank, we have Nicole DeBlase. Pl...</td>\n",
       "      <td>Neutral</td>\n",
       "    </tr>\n",
       "    <tr>\n",
       "      <th>146</th>\n",
       "      <td>Nicole DeBlase</td>\n",
       "      <td>Neutral</td>\n",
       "    </tr>\n",
       "    <tr>\n",
       "      <th>...</th>\n",
       "      <td>...</td>\n",
       "      <td>...</td>\n",
       "    </tr>\n",
       "    <tr>\n",
       "      <th>199</th>\n",
       "      <td>I know, we ran out of time before we could get...</td>\n",
       "      <td>Neutral</td>\n",
       "    </tr>\n",
       "    <tr>\n",
       "      <th>2</th>\n",
       "      <td>Steve Winoker</td>\n",
       "      <td>Neutral</td>\n",
       "    </tr>\n",
       "    <tr>\n",
       "      <th>200</th>\n",
       "      <td>Thank you. Ladies and gentlemen, this conclude...</td>\n",
       "      <td>Neutral</td>\n",
       "    </tr>\n",
       "    <tr>\n",
       "      <th>21</th>\n",
       "      <td>As my friend, Jim Collins of \"good-to-great\" f...</td>\n",
       "      <td>Neutral</td>\n",
       "    </tr>\n",
       "    <tr>\n",
       "      <th>27</th>\n",
       "      <td>Next to the balance sheet. As I've stated alre...</td>\n",
       "      <td>Neutral</td>\n",
       "    </tr>\n",
       "    <tr>\n",
       "      <th>3</th>\n",
       "      <td>Thanks, Brandon and good morning and welcome t...</td>\n",
       "      <td>Neutral</td>\n",
       "    </tr>\n",
       "    <tr>\n",
       "      <th>37</th>\n",
       "      <td>Jamie will now take you through the detailed f...</td>\n",
       "      <td>Neutral</td>\n",
       "    </tr>\n",
       "    <tr>\n",
       "      <th>38</th>\n",
       "      <td>Jamie Miller</td>\n",
       "      <td>Neutral</td>\n",
       "    </tr>\n",
       "    <tr>\n",
       "      <th>5</th>\n",
       "      <td>And now, I'll turn the call over to Larry</td>\n",
       "      <td>Neutral</td>\n",
       "    </tr>\n",
       "    <tr>\n",
       "      <th>50</th>\n",
       "      <td>Now, I'll take you through financial policy an...</td>\n",
       "      <td>Neutral</td>\n",
       "    </tr>\n",
       "    <tr>\n",
       "      <th>51</th>\n",
       "      <td>As Larry mentioned, we view these businesses d...</td>\n",
       "      <td>Neutral</td>\n",
       "    </tr>\n",
       "    <tr>\n",
       "      <th>56</th>\n",
       "      <td>Next on Power. Orders were down 19% in the qua...</td>\n",
       "      <td>Neutral</td>\n",
       "    </tr>\n",
       "    <tr>\n",
       "      <th>57</th>\n",
       "      <td>Moving to profit. The segment loss $872 millio...</td>\n",
       "      <td>Neutral</td>\n",
       "    </tr>\n",
       "    <tr>\n",
       "      <th>58</th>\n",
       "      <td>In addition, we had our normal cost standard u...</td>\n",
       "      <td>Neutral</td>\n",
       "    </tr>\n",
       "    <tr>\n",
       "      <th>59</th>\n",
       "      <td>These items had a significant impact on Power'...</td>\n",
       "      <td>Neutral</td>\n",
       "    </tr>\n",
       "    <tr>\n",
       "      <th>6</th>\n",
       "      <td>Larry Culp</td>\n",
       "      <td>Neutral</td>\n",
       "    </tr>\n",
       "    <tr>\n",
       "      <th>7</th>\n",
       "      <td>Thank you, Steve. Good morning, everyone. And ...</td>\n",
       "      <td>Neutral</td>\n",
       "    </tr>\n",
       "    <tr>\n",
       "      <th>71</th>\n",
       "      <td>To provide additional information to further c...</td>\n",
       "      <td>Neutral</td>\n",
       "    </tr>\n",
       "    <tr>\n",
       "      <th>72</th>\n",
       "      <td>With that I'll turn it back over to Larry.</td>\n",
       "      <td>Neutral</td>\n",
       "    </tr>\n",
       "    <tr>\n",
       "      <th>73</th>\n",
       "      <td>Larry Culp</td>\n",
       "      <td>Neutral</td>\n",
       "    </tr>\n",
       "    <tr>\n",
       "      <th>79</th>\n",
       "      <td>With that we'll open it up to your questions.</td>\n",
       "      <td>Neutral</td>\n",
       "    </tr>\n",
       "    <tr>\n",
       "      <th>8</th>\n",
       "      <td>First, I'd like to start by welcoming Steve to...</td>\n",
       "      <td>Neutral</td>\n",
       "    </tr>\n",
       "    <tr>\n",
       "      <th>80</th>\n",
       "      <td>Thanks. Good morning.</td>\n",
       "      <td>Neutral</td>\n",
       "    </tr>\n",
       "    <tr>\n",
       "      <th>81</th>\n",
       "      <td>Good morning, Nigel.</td>\n",
       "      <td>Neutral</td>\n",
       "    </tr>\n",
       "    <tr>\n",
       "      <th>82</th>\n",
       "      <td>Morning. Lots of questions. I mean, I'm sure a...</td>\n",
       "      <td>Neutral</td>\n",
       "    </tr>\n",
       "    <tr>\n",
       "      <th>87</th>\n",
       "      <td>And from JPMorgan, we have Steve Tusa. Please ...</td>\n",
       "      <td>Neutral</td>\n",
       "    </tr>\n",
       "    <tr>\n",
       "      <th>95</th>\n",
       "      <td>Steve, as I said in both my prepared remarks a...</td>\n",
       "      <td>Neutral</td>\n",
       "    </tr>\n",
       "    <tr>\n",
       "      <th>96</th>\n",
       "      <td>From Vertical Research we have Jeffrey Sprague</td>\n",
       "      <td>Neutral</td>\n",
       "    </tr>\n",
       "    <tr>\n",
       "      <th>97</th>\n",
       "      <td>Thank you. Good morning, everyone.</td>\n",
       "      <td>Neutral</td>\n",
       "    </tr>\n",
       "    <tr>\n",
       "      <th>98</th>\n",
       "      <td>Morning, Jeff.</td>\n",
       "      <td>Neutral</td>\n",
       "    </tr>\n",
       "  </tbody>\n",
       "</table>\n",
       "<p>91 rows × 2 columns</p>\n",
       "</div>"
      ],
      "text/plain": [
       "                                                  text sentiment\n",
       "0    Good day, ladies and gentlemen and welcome to ...   Neutral\n",
       "1    I would now like to turn the program over to y...   Neutral\n",
       "10   Let's start with the outlook because investors...   Neutral\n",
       "103  Well, Jeff what I was referring to there was t...   Neutral\n",
       "104                             Sorry about that Jeff.   Neutral\n",
       "105                                            Thanks.   Neutral\n",
       "106            From Barclays, we have Julian Mitchell.   Neutral\n",
       "114  With respect to Aviation's merger and mix you ...   Neutral\n",
       "115  We're clearly in conversations with our major ...   Neutral\n",
       "116  From Melius Research, we have Scott Davis. Ple...   Neutral\n",
       "117                           Hey. Good morning, guys.   Neutral\n",
       "118                               Good morning, Scott.   Neutral\n",
       "123  And from Citi, we have Andrew Kaplowitz. Pleas...   Neutral\n",
       "125                                         Larry Culp   Neutral\n",
       "128                                   Andrew Kaplowitz   Neutral\n",
       "129  And Larry, you're pretty clear about having no...   Neutral\n",
       "130                                         Larry Culp   Neutral\n",
       "132                                           Operator   Neutral\n",
       "133  From Bank of America Merrill Lynch, we have An...   Neutral\n",
       "134                                        Andrew Obin   Neutral\n",
       "135  Hi, good morning. Just a question. You mention...   Neutral\n",
       "136                                       Jamie Miller   Neutral\n",
       "137  We asked our new controller, when he started t...   Neutral\n",
       "14   For the year, we signed or completed substanti...   Neutral\n",
       "140                                        Andrew Obin   Neutral\n",
       "141  Got you. And just on GE Capital. How much incr...   Neutral\n",
       "142                                       Jamie Miller   Neutral\n",
       "144                                           Operator   Neutral\n",
       "145  From Deutsche Bank, we have Nicole DeBlase. Pl...   Neutral\n",
       "146                                     Nicole DeBlase   Neutral\n",
       "..                                                 ...       ...\n",
       "199  I know, we ran out of time before we could get...   Neutral\n",
       "2                                        Steve Winoker   Neutral\n",
       "200  Thank you. Ladies and gentlemen, this conclude...   Neutral\n",
       "21   As my friend, Jim Collins of \"good-to-great\" f...   Neutral\n",
       "27   Next to the balance sheet. As I've stated alre...   Neutral\n",
       "3    Thanks, Brandon and good morning and welcome t...   Neutral\n",
       "37   Jamie will now take you through the detailed f...   Neutral\n",
       "38                                        Jamie Miller   Neutral\n",
       "5            And now, I'll turn the call over to Larry   Neutral\n",
       "50   Now, I'll take you through financial policy an...   Neutral\n",
       "51   As Larry mentioned, we view these businesses d...   Neutral\n",
       "56   Next on Power. Orders were down 19% in the qua...   Neutral\n",
       "57   Moving to profit. The segment loss $872 millio...   Neutral\n",
       "58   In addition, we had our normal cost standard u...   Neutral\n",
       "59   These items had a significant impact on Power'...   Neutral\n",
       "6                                           Larry Culp   Neutral\n",
       "7    Thank you, Steve. Good morning, everyone. And ...   Neutral\n",
       "71   To provide additional information to further c...   Neutral\n",
       "72          With that I'll turn it back over to Larry.   Neutral\n",
       "73                                          Larry Culp   Neutral\n",
       "79       With that we'll open it up to your questions.   Neutral\n",
       "8    First, I'd like to start by welcoming Steve to...   Neutral\n",
       "80                               Thanks. Good morning.   Neutral\n",
       "81                                Good morning, Nigel.   Neutral\n",
       "82   Morning. Lots of questions. I mean, I'm sure a...   Neutral\n",
       "87   And from JPMorgan, we have Steve Tusa. Please ...   Neutral\n",
       "95   Steve, as I said in both my prepared remarks a...   Neutral\n",
       "96      From Vertical Research we have Jeffrey Sprague   Neutral\n",
       "97                  Thank you. Good morning, everyone.   Neutral\n",
       "98                                      Morning, Jeff.   Neutral\n",
       "\n",
       "[91 rows x 2 columns]"
      ]
     },
     "execution_count": 152,
     "metadata": {},
     "output_type": "execute_result"
    }
   ],
   "source": [
    "new_df[new_df['sentiment']=='Neutral']"
   ]
  },
  {
   "cell_type": "code",
   "execution_count": 154,
   "metadata": {},
   "outputs": [],
   "source": [
    "df= new_df[new_df['sentiment']!='Neutral']"
   ]
  },
  {
   "cell_type": "code",
   "execution_count": 155,
   "metadata": {},
   "outputs": [
    {
     "data": {
      "text/html": [
       "<div>\n",
       "<style scoped>\n",
       "    .dataframe tbody tr th:only-of-type {\n",
       "        vertical-align: middle;\n",
       "    }\n",
       "\n",
       "    .dataframe tbody tr th {\n",
       "        vertical-align: top;\n",
       "    }\n",
       "\n",
       "    .dataframe thead th {\n",
       "        text-align: right;\n",
       "    }\n",
       "</style>\n",
       "<table border=\"1\" class=\"dataframe\">\n",
       "  <thead>\n",
       "    <tr style=\"text-align: right;\">\n",
       "      <th></th>\n",
       "      <th>text</th>\n",
       "      <th>sentiment</th>\n",
       "    </tr>\n",
       "  </thead>\n",
       "  <tbody>\n",
       "    <tr>\n",
       "      <th>100</th>\n",
       "      <td>Well Steve, I'd like to think that everything ...</td>\n",
       "      <td>Negative</td>\n",
       "    </tr>\n",
       "    <tr>\n",
       "      <th>101</th>\n",
       "      <td>With respect to Baker Hughes, I mean we talked...</td>\n",
       "      <td>Negative</td>\n",
       "    </tr>\n",
       "    <tr>\n",
       "      <th>102</th>\n",
       "      <td>Thanks. And just as a follow-up. I didn't have...</td>\n",
       "      <td>Negative</td>\n",
       "    </tr>\n",
       "    <tr>\n",
       "      <th>107</th>\n",
       "      <td>Morning. Maybe as the first question on Power....</td>\n",
       "      <td>Negative</td>\n",
       "    </tr>\n",
       "    <tr>\n",
       "      <th>108</th>\n",
       "      <td>Sure, sure. Let me do that and again this is v...</td>\n",
       "      <td>Negative</td>\n",
       "    </tr>\n",
       "    <tr>\n",
       "      <th>109</th>\n",
       "      <td>Transitioning them, if you will from volume to...</td>\n",
       "      <td>Positive</td>\n",
       "    </tr>\n",
       "    <tr>\n",
       "      <th>11</th>\n",
       "      <td>For the industrial portfolio in total, we will...</td>\n",
       "      <td>Positive</td>\n",
       "    </tr>\n",
       "    <tr>\n",
       "      <th>110</th>\n",
       "      <td>I think when you look at the vintages, we're e...</td>\n",
       "      <td>Positive</td>\n",
       "    </tr>\n",
       "    <tr>\n",
       "      <th>111</th>\n",
       "      <td>As Jamie mentioned, we now take on all the cos...</td>\n",
       "      <td>Positive</td>\n",
       "    </tr>\n",
       "    <tr>\n",
       "      <th>112</th>\n",
       "      <td>The other color I would just add there on nega...</td>\n",
       "      <td>Negative</td>\n",
       "    </tr>\n",
       "    <tr>\n",
       "      <th>113</th>\n",
       "      <td>Thanks. And then my second question may be abo...</td>\n",
       "      <td>Positive</td>\n",
       "    </tr>\n",
       "    <tr>\n",
       "      <th>119</th>\n",
       "      <td>And Larry I don't buy that you're going to hav...</td>\n",
       "      <td>Positive</td>\n",
       "    </tr>\n",
       "    <tr>\n",
       "      <th>12</th>\n",
       "      <td>In the spirit of providing you with all the in...</td>\n",
       "      <td>Positive</td>\n",
       "    </tr>\n",
       "    <tr>\n",
       "      <th>120</th>\n",
       "      <td>Well, there's -- it's a large number and again...</td>\n",
       "      <td>Negative</td>\n",
       "    </tr>\n",
       "    <tr>\n",
       "      <th>121</th>\n",
       "      <td>That make sense. And then the other thing is j...</td>\n",
       "      <td>Negative</td>\n",
       "    </tr>\n",
       "    <tr>\n",
       "      <th>122</th>\n",
       "      <td>Well, I think it is realistic, right? There ar...</td>\n",
       "      <td>Positive</td>\n",
       "    </tr>\n",
       "    <tr>\n",
       "      <th>124</th>\n",
       "      <td>Hey. Good morning, guys. Larry, one of the big...</td>\n",
       "      <td>Negative</td>\n",
       "    </tr>\n",
       "    <tr>\n",
       "      <th>126</th>\n",
       "      <td>I don't think I would ever say, even on my las...</td>\n",
       "      <td>Positive</td>\n",
       "    </tr>\n",
       "    <tr>\n",
       "      <th>127</th>\n",
       "      <td>But again, the cash requirements really come f...</td>\n",
       "      <td>Negative</td>\n",
       "    </tr>\n",
       "    <tr>\n",
       "      <th>13</th>\n",
       "      <td>With respect to delevering, we've taken the fo...</td>\n",
       "      <td>Positive</td>\n",
       "    </tr>\n",
       "    <tr>\n",
       "      <th>131</th>\n",
       "      <td>Well, I think that we're -- we're frankly keen...</td>\n",
       "      <td>Negative</td>\n",
       "    </tr>\n",
       "    <tr>\n",
       "      <th>138</th>\n",
       "      <td>So as we mentioned before, we had adjustments ...</td>\n",
       "      <td>Negative</td>\n",
       "    </tr>\n",
       "    <tr>\n",
       "      <th>139</th>\n",
       "      <td>On the pricing pressure, we are seeing that in...</td>\n",
       "      <td>Positive</td>\n",
       "    </tr>\n",
       "    <tr>\n",
       "      <th>143</th>\n",
       "      <td>Yeah. So Andrew at this point, we're talking a...</td>\n",
       "      <td>Positive</td>\n",
       "    </tr>\n",
       "    <tr>\n",
       "      <th>147</th>\n",
       "      <td>So, good morning. So I just want to start on P...</td>\n",
       "      <td>Negative</td>\n",
       "    </tr>\n",
       "    <tr>\n",
       "      <th>149</th>\n",
       "      <td>Well, Nicole I would say, we are in the very e...</td>\n",
       "      <td>Negative</td>\n",
       "    </tr>\n",
       "    <tr>\n",
       "      <th>15</th>\n",
       "      <td>Today, we have announced that we've reached an...</td>\n",
       "      <td>Negative</td>\n",
       "    </tr>\n",
       "    <tr>\n",
       "      <th>151</th>\n",
       "      <td>Okay, got it. That's helpful. Thanks, Larry. A...</td>\n",
       "      <td>Positive</td>\n",
       "    </tr>\n",
       "    <tr>\n",
       "      <th>153</th>\n",
       "      <td>I'd say it's roughly indicative. I think it'll...</td>\n",
       "      <td>Negative</td>\n",
       "    </tr>\n",
       "    <tr>\n",
       "      <th>16</th>\n",
       "      <td>In 2018, our corporate headquarters cost was $...</td>\n",
       "      <td>Positive</td>\n",
       "    </tr>\n",
       "    <tr>\n",
       "      <th>...</th>\n",
       "      <td>...</td>\n",
       "      <td>...</td>\n",
       "    </tr>\n",
       "    <tr>\n",
       "      <th>55</th>\n",
       "      <td>We are planning approximately $4 billion of ca...</td>\n",
       "      <td>Positive</td>\n",
       "    </tr>\n",
       "    <tr>\n",
       "      <th>60</th>\n",
       "      <td>Specifically, we shipped 379 LEAP engines this...</td>\n",
       "      <td>Negative</td>\n",
       "    </tr>\n",
       "    <tr>\n",
       "      <th>61</th>\n",
       "      <td>Despite the negative mix from higher LEAP ship...</td>\n",
       "      <td>Negative</td>\n",
       "    </tr>\n",
       "    <tr>\n",
       "      <th>62</th>\n",
       "      <td>Now, I'll provide some additional transparency...</td>\n",
       "      <td>Positive</td>\n",
       "    </tr>\n",
       "    <tr>\n",
       "      <th>63</th>\n",
       "      <td>We shipped 44% more megawatts and onshore wind...</td>\n",
       "      <td>Positive</td>\n",
       "    </tr>\n",
       "    <tr>\n",
       "      <th>64</th>\n",
       "      <td>The consolidation presented a headwind of abou...</td>\n",
       "      <td>Negative</td>\n",
       "    </tr>\n",
       "    <tr>\n",
       "      <th>65</th>\n",
       "      <td>For Healthcare, orders of $5.8 billion were up...</td>\n",
       "      <td>Positive</td>\n",
       "    </tr>\n",
       "    <tr>\n",
       "      <th>66</th>\n",
       "      <td>Revenue of $5.4 billion was up 6% organically....</td>\n",
       "      <td>Positive</td>\n",
       "    </tr>\n",
       "    <tr>\n",
       "      <th>67</th>\n",
       "      <td>Moving to oil and gas. Baker Hughes GE release...</td>\n",
       "      <td>Positive</td>\n",
       "    </tr>\n",
       "    <tr>\n",
       "      <th>68</th>\n",
       "      <td>Last week, we also announced amended transacti...</td>\n",
       "      <td>Positive</td>\n",
       "    </tr>\n",
       "    <tr>\n",
       "      <th>69</th>\n",
       "      <td>Finally, I'll cover GE Capital. Net loss from ...</td>\n",
       "      <td>Negative</td>\n",
       "    </tr>\n",
       "    <tr>\n",
       "      <th>70</th>\n",
       "      <td>As part of the test, we unlocked our future po...</td>\n",
       "      <td>Positive</td>\n",
       "    </tr>\n",
       "    <tr>\n",
       "      <th>74</th>\n",
       "      <td>Jamie, thank you. So hopefully, by now you hav...</td>\n",
       "      <td>Positive</td>\n",
       "    </tr>\n",
       "    <tr>\n",
       "      <th>75</th>\n",
       "      <td>Power will be down in a flat to slightly down ...</td>\n",
       "      <td>Negative</td>\n",
       "    </tr>\n",
       "    <tr>\n",
       "      <th>76</th>\n",
       "      <td>We anticipate cash flow to grow substantially ...</td>\n",
       "      <td>Positive</td>\n",
       "    </tr>\n",
       "    <tr>\n",
       "      <th>77</th>\n",
       "      <td>In Healthcare, we expect organic growth in mar...</td>\n",
       "      <td>Positive</td>\n",
       "    </tr>\n",
       "    <tr>\n",
       "      <th>78</th>\n",
       "      <td>So my message for 2019 is that the more stable...</td>\n",
       "      <td>Positive</td>\n",
       "    </tr>\n",
       "    <tr>\n",
       "      <th>83</th>\n",
       "      <td>Well, I think we've talked about that separati...</td>\n",
       "      <td>Positive</td>\n",
       "    </tr>\n",
       "    <tr>\n",
       "      <th>84</th>\n",
       "      <td>Okay. And then my follow-on would be, you gave...</td>\n",
       "      <td>Negative</td>\n",
       "    </tr>\n",
       "    <tr>\n",
       "      <th>85</th>\n",
       "      <td>Nigel, forgive us, if we didn't get into that ...</td>\n",
       "      <td>Negative</td>\n",
       "    </tr>\n",
       "    <tr>\n",
       "      <th>86</th>\n",
       "      <td>And Nigel, just to add a little bit more color...</td>\n",
       "      <td>Positive</td>\n",
       "    </tr>\n",
       "    <tr>\n",
       "      <th>88</th>\n",
       "      <td>Hey, good morning. So you mentioned on the fre...</td>\n",
       "      <td>Negative</td>\n",
       "    </tr>\n",
       "    <tr>\n",
       "      <th>89</th>\n",
       "      <td>Yes. So why don't I talk through the component...</td>\n",
       "      <td>Positive</td>\n",
       "    </tr>\n",
       "    <tr>\n",
       "      <th>9</th>\n",
       "      <td>We have the right portfolio of strategy and I'...</td>\n",
       "      <td>Positive</td>\n",
       "    </tr>\n",
       "    <tr>\n",
       "      <th>90</th>\n",
       "      <td>Hey, sorry. I can see the slide. I just wanted...</td>\n",
       "      <td>Negative</td>\n",
       "    </tr>\n",
       "    <tr>\n",
       "      <th>91</th>\n",
       "      <td>Yeah, Steve. And I think the simple answer the...</td>\n",
       "      <td>Positive</td>\n",
       "    </tr>\n",
       "    <tr>\n",
       "      <th>92</th>\n",
       "      <td>Clearly renewables was stronger from a cash pe...</td>\n",
       "      <td>Positive</td>\n",
       "    </tr>\n",
       "    <tr>\n",
       "      <th>93</th>\n",
       "      <td>So again, I think the headline is, we finished...</td>\n",
       "      <td>Positive</td>\n",
       "    </tr>\n",
       "    <tr>\n",
       "      <th>94</th>\n",
       "      <td>Great. And what do you expect GE cash to earn ...</td>\n",
       "      <td>Positive</td>\n",
       "    </tr>\n",
       "    <tr>\n",
       "      <th>99</th>\n",
       "      <td>Yeah. Two from me. Just thinking about the Hea...</td>\n",
       "      <td>Negative</td>\n",
       "    </tr>\n",
       "  </tbody>\n",
       "</table>\n",
       "<p>110 rows × 2 columns</p>\n",
       "</div>"
      ],
      "text/plain": [
       "                                                  text sentiment\n",
       "100  Well Steve, I'd like to think that everything ...  Negative\n",
       "101  With respect to Baker Hughes, I mean we talked...  Negative\n",
       "102  Thanks. And just as a follow-up. I didn't have...  Negative\n",
       "107  Morning. Maybe as the first question on Power....  Negative\n",
       "108  Sure, sure. Let me do that and again this is v...  Negative\n",
       "109  Transitioning them, if you will from volume to...  Positive\n",
       "11   For the industrial portfolio in total, we will...  Positive\n",
       "110  I think when you look at the vintages, we're e...  Positive\n",
       "111  As Jamie mentioned, we now take on all the cos...  Positive\n",
       "112  The other color I would just add there on nega...  Negative\n",
       "113  Thanks. And then my second question may be abo...  Positive\n",
       "119  And Larry I don't buy that you're going to hav...  Positive\n",
       "12   In the spirit of providing you with all the in...  Positive\n",
       "120  Well, there's -- it's a large number and again...  Negative\n",
       "121  That make sense. And then the other thing is j...  Negative\n",
       "122  Well, I think it is realistic, right? There ar...  Positive\n",
       "124  Hey. Good morning, guys. Larry, one of the big...  Negative\n",
       "126  I don't think I would ever say, even on my las...  Positive\n",
       "127  But again, the cash requirements really come f...  Negative\n",
       "13   With respect to delevering, we've taken the fo...  Positive\n",
       "131  Well, I think that we're -- we're frankly keen...  Negative\n",
       "138  So as we mentioned before, we had adjustments ...  Negative\n",
       "139  On the pricing pressure, we are seeing that in...  Positive\n",
       "143  Yeah. So Andrew at this point, we're talking a...  Positive\n",
       "147  So, good morning. So I just want to start on P...  Negative\n",
       "149  Well, Nicole I would say, we are in the very e...  Negative\n",
       "15   Today, we have announced that we've reached an...  Negative\n",
       "151  Okay, got it. That's helpful. Thanks, Larry. A...  Positive\n",
       "153  I'd say it's roughly indicative. I think it'll...  Negative\n",
       "16   In 2018, our corporate headquarters cost was $...  Positive\n",
       "..                                                 ...       ...\n",
       "55   We are planning approximately $4 billion of ca...  Positive\n",
       "60   Specifically, we shipped 379 LEAP engines this...  Negative\n",
       "61   Despite the negative mix from higher LEAP ship...  Negative\n",
       "62   Now, I'll provide some additional transparency...  Positive\n",
       "63   We shipped 44% more megawatts and onshore wind...  Positive\n",
       "64   The consolidation presented a headwind of abou...  Negative\n",
       "65   For Healthcare, orders of $5.8 billion were up...  Positive\n",
       "66   Revenue of $5.4 billion was up 6% organically....  Positive\n",
       "67   Moving to oil and gas. Baker Hughes GE release...  Positive\n",
       "68   Last week, we also announced amended transacti...  Positive\n",
       "69   Finally, I'll cover GE Capital. Net loss from ...  Negative\n",
       "70   As part of the test, we unlocked our future po...  Positive\n",
       "74   Jamie, thank you. So hopefully, by now you hav...  Positive\n",
       "75   Power will be down in a flat to slightly down ...  Negative\n",
       "76   We anticipate cash flow to grow substantially ...  Positive\n",
       "77   In Healthcare, we expect organic growth in mar...  Positive\n",
       "78   So my message for 2019 is that the more stable...  Positive\n",
       "83   Well, I think we've talked about that separati...  Positive\n",
       "84   Okay. And then my follow-on would be, you gave...  Negative\n",
       "85   Nigel, forgive us, if we didn't get into that ...  Negative\n",
       "86   And Nigel, just to add a little bit more color...  Positive\n",
       "88   Hey, good morning. So you mentioned on the fre...  Negative\n",
       "89   Yes. So why don't I talk through the component...  Positive\n",
       "9    We have the right portfolio of strategy and I'...  Positive\n",
       "90   Hey, sorry. I can see the slide. I just wanted...  Negative\n",
       "91   Yeah, Steve. And I think the simple answer the...  Positive\n",
       "92   Clearly renewables was stronger from a cash pe...  Positive\n",
       "93   So again, I think the headline is, we finished...  Positive\n",
       "94   Great. And what do you expect GE cash to earn ...  Positive\n",
       "99   Yeah. Two from me. Just thinking about the Hea...  Negative\n",
       "\n",
       "[110 rows x 2 columns]"
      ]
     },
     "execution_count": 155,
     "metadata": {},
     "output_type": "execute_result"
    }
   ],
   "source": [
    "df"
   ]
  },
  {
   "cell_type": "code",
   "execution_count": 156,
   "metadata": {},
   "outputs": [],
   "source": [
    "from sklearn.preprocessing import LabelEncoder"
   ]
  },
  {
   "cell_type": "code",
   "execution_count": 157,
   "metadata": {},
   "outputs": [],
   "source": [
    "le = LabelEncoder()\n",
    "Y = le.fit_transform(df['sentiment'])"
   ]
  },
  {
   "cell_type": "code",
   "execution_count": 158,
   "metadata": {},
   "outputs": [],
   "source": [
    "from sklearn.feature_extraction.text import CountVectorizer"
   ]
  },
  {
   "cell_type": "code",
   "execution_count": 159,
   "metadata": {},
   "outputs": [],
   "source": [
    "vectorizer = CountVectorizer(min_df=0, lowercase=False)"
   ]
  },
  {
   "cell_type": "code",
   "execution_count": 160,
   "metadata": {},
   "outputs": [
    {
     "data": {
      "text/plain": [
       "CountVectorizer(analyzer='word', binary=False, decode_error='strict',\n",
       "        dtype=<class 'numpy.int64'>, encoding='utf-8', input='content',\n",
       "        lowercase=False, max_df=1.0, max_features=None, min_df=0,\n",
       "        ngram_range=(1, 1), preprocessor=None, stop_words=None,\n",
       "        strip_accents=None, token_pattern='(?u)\\\\b\\\\w\\\\w+\\\\b',\n",
       "        tokenizer=None, vocabulary=None)"
      ]
     },
     "execution_count": 160,
     "metadata": {},
     "output_type": "execute_result"
    }
   ],
   "source": [
    "vectorizer.fit(df['text'])"
   ]
  },
  {
   "cell_type": "code",
   "execution_count": 161,
   "metadata": {},
   "outputs": [],
   "source": [
    "a=vectorizer.transform(df['text']).toarray()"
   ]
  },
  {
   "cell_type": "code",
   "execution_count": 162,
   "metadata": {},
   "outputs": [
    {
     "data": {
      "text/plain": [
       "array([[0, 0, 0, ..., 0, 0, 0],\n",
       "       [0, 0, 0, ..., 0, 0, 0],\n",
       "       [0, 0, 0, ..., 1, 0, 0],\n",
       "       ...,\n",
       "       [0, 0, 0, ..., 0, 0, 0],\n",
       "       [0, 0, 0, ..., 0, 0, 0],\n",
       "       [0, 0, 0, ..., 0, 0, 0]], dtype=int64)"
      ]
     },
     "execution_count": 162,
     "metadata": {},
     "output_type": "execute_result"
    }
   ],
   "source": [
    "a"
   ]
  },
  {
   "cell_type": "code",
   "execution_count": 163,
   "metadata": {},
   "outputs": [],
   "source": [
    "from sklearn.model_selection import train_test_split"
   ]
  },
  {
   "cell_type": "code",
   "execution_count": 164,
   "metadata": {},
   "outputs": [],
   "source": [
    "X_train, X_test, y_train, y_test = train_test_split(a, Y, test_size=0.2, random_state=1000)"
   ]
  },
  {
   "cell_type": "code",
   "execution_count": 165,
   "metadata": {},
   "outputs": [],
   "source": [
    "from sklearn.linear_model import LogisticRegression"
   ]
  },
  {
   "cell_type": "code",
   "execution_count": 166,
   "metadata": {},
   "outputs": [],
   "source": [
    "classifier = LogisticRegression()\n",
    "classifier.fit(X_train, y_train)\n",
    "score = classifier.score(X_test, y_test)"
   ]
  },
  {
   "cell_type": "code",
   "execution_count": 167,
   "metadata": {},
   "outputs": [
    {
     "name": "stdout",
     "output_type": "stream",
     "text": [
      "Accuracy: 0.7272727272727273\n"
     ]
    }
   ],
   "source": [
    "print(\"Accuracy:\", score)"
   ]
  },
  {
   "cell_type": "code",
   "execution_count": 168,
   "metadata": {},
   "outputs": [],
   "source": [
    "import keras\n",
    "from keras.models import Sequential\n",
    "from keras.layers import Dense, Dropout, Activation"
   ]
  },
  {
   "cell_type": "code",
   "execution_count": 169,
   "metadata": {},
   "outputs": [],
   "source": [
    "input_dim = X_train.shape[1]"
   ]
  },
  {
   "cell_type": "code",
   "execution_count": 170,
   "metadata": {},
   "outputs": [],
   "source": [
    "model_bow = Sequential()\n",
    "model_bow.add(Dense(32, input_dim=input_dim, activation='relu'))\n",
    "model_bow.add(Dropout(0.5))\n",
    "model_bow.add(Dense(32,activation='relu'))\n",
    "model_bow.add(Dropout(0.5))\n",
    "model_bow.add(Dense(1, activation='sigmoid'))"
   ]
  },
  {
   "cell_type": "code",
   "execution_count": 171,
   "metadata": {},
   "outputs": [
    {
     "name": "stdout",
     "output_type": "stream",
     "text": [
      "_________________________________________________________________\n",
      "Layer (type)                 Output Shape              Param #   \n",
      "=================================================================\n",
      "dense_40 (Dense)             (None, 32)                58656     \n",
      "_________________________________________________________________\n",
      "dropout_10 (Dropout)         (None, 32)                0         \n",
      "_________________________________________________________________\n",
      "dense_41 (Dense)             (None, 32)                1056      \n",
      "_________________________________________________________________\n",
      "dropout_11 (Dropout)         (None, 32)                0         \n",
      "_________________________________________________________________\n",
      "dense_42 (Dense)             (None, 1)                 33        \n",
      "=================================================================\n",
      "Total params: 59,745\n",
      "Trainable params: 59,745\n",
      "Non-trainable params: 0\n",
      "_________________________________________________________________\n"
     ]
    }
   ],
   "source": [
    "model_bow.compile(loss='binary_crossentropy', optimizer='adam', metrics=['accuracy'])\n",
    "model_bow.summary()"
   ]
  },
  {
   "cell_type": "code",
   "execution_count": 172,
   "metadata": {},
   "outputs": [],
   "source": [
    "history_bow = model_bow.fit(X_train, y_train,epochs=5,verbose=False,validation_data=(X_test, y_test),batch_size=10)"
   ]
  },
  {
   "cell_type": "code",
   "execution_count": 173,
   "metadata": {},
   "outputs": [
    {
     "name": "stdout",
     "output_type": "stream",
     "text": [
      "88/88 [==============================] - 0s 136us/step\n",
      "Training Accuracy: 0.8523\n",
      "22/22 [==============================] - 0s 140us/step\n",
      "Testing Accuracy:  0.4545\n"
     ]
    }
   ],
   "source": [
    "loss, accuracy = model_bow.evaluate(X_train, y_train)\n",
    "print(\"Training Accuracy: {:.4f}\".format(accuracy))\n",
    "loss, accuracy = model_bow.evaluate(X_test, y_test)\n",
    "print(\"Testing Accuracy:  {:.4f}\".format(accuracy))"
   ]
  },
  {
   "cell_type": "markdown",
   "metadata": {},
   "source": [
    "#### GE using GLoVe"
   ]
  },
  {
   "cell_type": "code",
   "execution_count": 174,
   "metadata": {},
   "outputs": [],
   "source": [
    "from keras.preprocessing.text import Tokenizer\n",
    "from keras.preprocessing.sequence import pad_sequences\n",
    "from keras.utils import to_categorical\n",
    "from keras.layers import Dense, Input, GlobalMaxPooling1D\n",
    "from keras.layers import Conv1D, MaxPooling1D, Embedding\n",
    "from keras.models import Model\n",
    "from keras.initializers import Constant"
   ]
  },
  {
   "cell_type": "code",
   "execution_count": 175,
   "metadata": {},
   "outputs": [],
   "source": [
    "import nltk\n",
    "import string\n",
    "import numpy as np\n",
    "import pandas as pd"
   ]
  },
  {
   "cell_type": "code",
   "execution_count": 176,
   "metadata": {},
   "outputs": [],
   "source": [
    "from sklearn.manifold import TSNE"
   ]
  },
  {
   "cell_type": "code",
   "execution_count": 177,
   "metadata": {},
   "outputs": [],
   "source": [
    "vocabulary_size = 20000\n",
    "tokenizer = Tokenizer(num_words= vocabulary_size)\n",
    "tokenizer.fit_on_texts(df['text'])"
   ]
  },
  {
   "cell_type": "code",
   "execution_count": 178,
   "metadata": {},
   "outputs": [],
   "source": [
    "sequences = tokenizer.texts_to_sequences(df['text'])\n",
    "data = pad_sequences(sequences, maxlen=50)"
   ]
  },
  {
   "cell_type": "code",
   "execution_count": 179,
   "metadata": {},
   "outputs": [],
   "source": [
    "indices = np.arange(data.shape[0])\n",
    "np.random.shuffle(indices)\n",
    "data = data[indices]\n",
    "labels = Y[indices]\n",
    "nb_validation_samples = int(0.2 * data.shape[0])"
   ]
  },
  {
   "cell_type": "code",
   "execution_count": 180,
   "metadata": {},
   "outputs": [],
   "source": [
    "x_train = data[:-nb_validation_samples]\n",
    "y_train = labels[:-nb_validation_samples]\n",
    "x_val = data[-nb_validation_samples:]\n",
    "y_val = labels[-nb_validation_samples:]"
   ]
  },
  {
   "cell_type": "code",
   "execution_count": 181,
   "metadata": {},
   "outputs": [],
   "source": [
    "embeddings_index = {}\n",
    "f = open('glove.6B.100d.txt',encoding=\"utf8\")\n",
    "for line in f:\n",
    "    values = line.split()\n",
    "    word = values[0]\n",
    "    coefs = np.asarray(values[1:], dtype='float32')\n",
    "    embeddings_index[word] = coefs\n",
    "f.close()"
   ]
  },
  {
   "cell_type": "code",
   "execution_count": 182,
   "metadata": {},
   "outputs": [],
   "source": [
    "word_index = tokenizer.word_index\n",
    "num_words = min(MAX_NUM_WORDS, len(word_index)) + 1\n",
    "embedding_matrix = np.zeros((len(word_index) + 1, 100))\n",
    "for word, i in word_index.items():\n",
    "    if i > MAX_NUM_WORDS:\n",
    "        continue\n",
    "    embedding_vector = embeddings_index.get(word)\n",
    "    if embedding_vector is not None:\n",
    "        # words not found in embedding index will be all-zeros.\n",
    "        embedding_matrix[i] = embedding_vector"
   ]
  },
  {
   "cell_type": "code",
   "execution_count": 183,
   "metadata": {},
   "outputs": [],
   "source": [
    "from keras.layers import Embedding\n",
    "\n",
    "embedding_layer = Embedding(num_words,\n",
    "                            100,\n",
    "                            embeddings_initializer=Constant(embedding_matrix),\n",
    "                            input_length=50,\n",
    "                            trainable=False)"
   ]
  },
  {
   "cell_type": "markdown",
   "metadata": {},
   "source": [
    "#### Model 1"
   ]
  },
  {
   "cell_type": "code",
   "execution_count": 184,
   "metadata": {},
   "outputs": [
    {
     "name": "stdout",
     "output_type": "stream",
     "text": [
      "Train on 88 samples, validate on 22 samples\n",
      "Epoch 1/10\n",
      "88/88 [==============================] - 4s 49ms/step - loss: 7.6089 - acc: 0.5227 - val_loss: 9.4205 - val_acc: 0.4091\n",
      "Epoch 2/10\n",
      "88/88 [==============================] - 0s 1ms/step - loss: 7.6089 - acc: 0.5227 - val_loss: 9.4205 - val_acc: 0.4091\n",
      "Epoch 3/10\n",
      "88/88 [==============================] - 0s 1ms/step - loss: 7.6089 - acc: 0.5227 - val_loss: 9.4205 - val_acc: 0.4091\n",
      "Epoch 4/10\n",
      "88/88 [==============================] - 0s 1ms/step - loss: 7.6089 - acc: 0.5227 - val_loss: 9.4205 - val_acc: 0.4091\n",
      "Epoch 5/10\n",
      "88/88 [==============================] - 0s 1ms/step - loss: 7.6089 - acc: 0.5227 - val_loss: 9.4205 - val_acc: 0.4091\n",
      "Epoch 6/10\n",
      "88/88 [==============================] - 0s 1ms/step - loss: 7.6089 - acc: 0.5227 - val_loss: 9.4205 - val_acc: 0.4091\n",
      "Epoch 7/10\n",
      "88/88 [==============================] - 0s 1ms/step - loss: 7.6089 - acc: 0.5227 - val_loss: 9.4205 - val_acc: 0.4091\n",
      "Epoch 8/10\n",
      "88/88 [==============================] - 0s 1ms/step - loss: 7.6089 - acc: 0.5227 - val_loss: 9.4205 - val_acc: 0.4091\n",
      "Epoch 9/10\n",
      "88/88 [==============================] - 0s 1ms/step - loss: 7.6089 - acc: 0.5227 - val_loss: 9.4205 - val_acc: 0.4091\n",
      "Epoch 10/10\n",
      "88/88 [==============================] - 0s 1ms/step - loss: 7.6089 - acc: 0.5227 - val_loss: 9.4205 - val_acc: 0.4091\n"
     ]
    }
   ],
   "source": [
    "sequence_input = Input(shape=(50,), dtype='int32')\n",
    "embedded_sequences = embedding_layer(sequence_input)\n",
    "x = Conv1D(128, 5, activation='relu')(embedded_sequences)\n",
    "x = MaxPooling1D(5)(x)\n",
    "x = Conv1D(128, 5, activation='relu')(x)\n",
    "x = MaxPooling1D(5)(x)\n",
    "x = Conv1D(128, 5, activation='relu',data_format='channels_first')(x)\n",
    "x = MaxPooling1D(35)(x)  # global max pooling\n",
    "x = Flatten()(x)\n",
    "x = Dense(128, activation='relu')(x)\n",
    "preds = Dense(1, activation='softmax')(x)\n",
    "\n",
    "model_glove = Model(sequence_input, preds)\n",
    "model_glove.compile(loss='binary_crossentropy',\n",
    "              optimizer='adam',\n",
    "              metrics=['acc'])\n",
    "\n",
    "# happy learning!\n",
    "history_glove=model_glove.fit(x_train, y_train, validation_data=(x_val, y_val),epochs=10, batch_size=32)"
   ]
  },
  {
   "cell_type": "markdown",
   "metadata": {},
   "source": [
    "#### Model 2"
   ]
  },
  {
   "cell_type": "code",
   "execution_count": 185,
   "metadata": {},
   "outputs": [
    {
     "name": "stdout",
     "output_type": "stream",
     "text": [
      "Train on 88 samples, validate on 22 samples\n",
      "Epoch 1/10\n",
      "88/88 [==============================] - 4s 40ms/step - loss: 0.6905 - acc: 0.5568 - val_loss: 0.7382 - val_acc: 0.4091\n",
      "Epoch 2/10\n",
      "88/88 [==============================] - 0s 454us/step - loss: 0.6889 - acc: 0.5568 - val_loss: 0.7383 - val_acc: 0.4091\n",
      "Epoch 3/10\n",
      "88/88 [==============================] - 0s 432us/step - loss: 0.6876 - acc: 0.5568 - val_loss: 0.7381 - val_acc: 0.4091\n",
      "Epoch 4/10\n",
      "88/88 [==============================] - 0s 455us/step - loss: 0.6863 - acc: 0.5682 - val_loss: 0.7379 - val_acc: 0.4091\n",
      "Epoch 5/10\n",
      "88/88 [==============================] - 0s 456us/step - loss: 0.6848 - acc: 0.5795 - val_loss: 0.7378 - val_acc: 0.4091\n",
      "Epoch 6/10\n",
      "88/88 [==============================] - 0s 466us/step - loss: 0.6835 - acc: 0.5795 - val_loss: 0.7379 - val_acc: 0.4091\n",
      "Epoch 7/10\n",
      "88/88 [==============================] - 0s 443us/step - loss: 0.6822 - acc: 0.5795 - val_loss: 0.7378 - val_acc: 0.4091\n",
      "Epoch 8/10\n",
      "88/88 [==============================] - 0s 476us/step - loss: 0.6809 - acc: 0.5795 - val_loss: 0.7379 - val_acc: 0.4091\n",
      "Epoch 9/10\n",
      "88/88 [==============================] - 0s 432us/step - loss: 0.6796 - acc: 0.5795 - val_loss: 0.7378 - val_acc: 0.4091\n",
      "Epoch 10/10\n",
      "88/88 [==============================] - 0s 465us/step - loss: 0.6782 - acc: 0.5795 - val_loss: 0.7376 - val_acc: 0.4091\n"
     ]
    }
   ],
   "source": [
    "from keras.optimizers import adam\n",
    "sequence_input = Input(shape=(50,), dtype='int32')\n",
    "embedded_sequences = embedding_layer(sequence_input)\n",
    "x = Conv1D(32, 5, activation='relu')(embedded_sequences)\n",
    "x = MaxPooling1D(5)(x)\n",
    "#x = Conv1D(64, 5, activation='relu',data_format='channels_first')(x)\n",
    "#x = MaxPooling1D(5)(x)  # global max pooling\n",
    "x = Flatten()(x)\n",
    "x = Dense(32, activation='relu')(x)\n",
    "preds = Dense(1, activation='sigmoid')(x)\n",
    "\n",
    "model_glove1 = Model(sequence_input, preds)\n",
    "model_glove1.compile(loss='binary_crossentropy',\n",
    "              optimizer=adam(lr=0.00001),\n",
    "              metrics=['accuracy'])\n",
    "\n",
    "# happy learning!\n",
    "history_glove1=model_glove1.fit(x_train, y_train, validation_data=(x_val, y_val),epochs=10, batch_size=32)"
   ]
  },
  {
   "cell_type": "code",
   "execution_count": null,
   "metadata": {},
   "outputs": [],
   "source": []
  }
 ],
 "metadata": {
  "kernelspec": {
   "display_name": "Python 3",
   "language": "python",
   "name": "python3"
  },
  "language_info": {
   "codemirror_mode": {
    "name": "ipython",
    "version": 3
   },
   "file_extension": ".py",
   "mimetype": "text/x-python",
   "name": "python",
   "nbconvert_exporter": "python",
   "pygments_lexer": "ipython3",
   "version": "3.7.0"
  }
 },
 "nbformat": 4,
 "nbformat_minor": 2
}
